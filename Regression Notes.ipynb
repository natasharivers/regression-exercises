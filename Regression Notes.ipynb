{
 "cells": [
  {
   "cell_type": "markdown",
   "metadata": {},
   "source": [
    "# Regression Overview"
   ]
  },
  {
   "cell_type": "markdown",
   "metadata": {},
   "source": [
    "### Regression is a supevised machine learning technique used to model the relationship of one or more features (independent variables) to one of more targets (dependent variables). "
   ]
  },
  {
   "cell_type": "markdown",
   "metadata": {},
   "source": [
    "<div class=\"alert alert-block alert-info\">\n",
    "**Regression**: prediction of a continuous outcome\n"
   ]
  },
  {
   "cell_type": "markdown",
   "metadata": {},
   "source": [
    "<div class=\"alert alert-block alert-info\">\n",
    "**Classification**: prediction of a Categorical Variable\n"
   ]
  },
  {
   "cell_type": "markdown",
   "metadata": {},
   "source": [
    "### Data Scaling:\n",
    "   - **Why**:\n",
    "        - data visualization\n",
    "        - distance calculation\n",
    "        - compare units\n",
    "   - **Data Scaling Categories**:\n",
    "       - linear: the space between each point is maintained\n",
    "       - non-linear: the space between each point will be different in the output"
   ]
  },
  {
   "cell_type": "markdown",
   "metadata": {},
   "source": [
    "____________________________"
   ]
  },
  {
   "cell_type": "markdown",
   "metadata": {},
   "source": [
    "### Feature Engineering\n",
    "   - transform raw data to better represent the problem to our predictive models     \n",
    "       - (ex): drop columns, create new columns, domain knowledge\n",
    "<br>\n",
    "\n",
    "#### Automated Feature Selections:\n",
    "- **Select K Best**: selects the tio k features based on stats best\n",
    "- **Recursive Feature Elimination (RFE)**: \n",
    "    - builds model and drops the least imporant feature \n",
    "    - continuously drops features until down to specified number of features"
   ]
  },
  {
   "cell_type": "markdown",
   "metadata": {},
   "source": [
    "### Evaluation\n",
    "- **Ask yourself**:\n",
    "1. does the model add value\n",
    "2. which model is better\n",
    "3. how confident I am in this model\n",
    "\n",
    "- **Error** = actual value - predicted values\n",
    "\n",
    "### Baseline: \n",
    "- predicted value = average value\n",
    "- the average of the target variable"
   ]
  },
  {
   "cell_type": "markdown",
   "metadata": {},
   "source": [
    "_________________________"
   ]
  },
  {
   "cell_type": "markdown",
   "metadata": {},
   "source": [
    "### Modeling:\n",
    "\n",
    "- y = mx +b (single variable)\n",
    "- y = b+ m1x1 + m2x2 + m3x3 (multiple variables)"
   ]
  },
  {
   "cell_type": "markdown",
   "metadata": {},
   "source": [
    "## Example\n",
    "#### Predict tip amount based on party size and bill amount\n",
    "- tip = .0927 total_bill + .1926 size + .6689\n",
    "<br>\n",
    "\n",
    "- **y** =tip\n",
    "- **$\\hat{y}$** = predicated tip, the sum of the features times their coeffients\n",
    "- **x** = [total_bill, size] -- ([total_bill, size, 1])\n",
    "- **w** = [.0927, .1926, .6689]\n",
    "- **error** = difference between predicted and actual tip\n"
   ]
  },
  {
   "cell_type": "markdown",
   "metadata": {},
   "source": [
    "______________"
   ]
  },
  {
   "cell_type": "markdown",
   "metadata": {},
   "source": [
    "### Types of Regression:\n",
    "- **Simple Regression**: y= f(x)\n",
    "- **Muliple Regression**: y=f($x_1$, $x_2$,...)\n",
    "- **Univariate Regression**: y=f(x)\n",
    "- **Multivariate Regression**: $y_1$, $y_2$, ... = f(x)"
   ]
  },
  {
   "cell_type": "markdown",
   "metadata": {},
   "source": [
    "### Polynomial Regression:\n",
    "- combine target variables together\n",
    "- tip = ($w_1$ * $totalbill^2$) + ($w_2$ * total_bill) + ($w_3$ * total_bill * size) +($w_4$ * size) "
   ]
  },
  {
   "cell_type": "markdown",
   "metadata": {},
   "source": [
    "<hr style=\"border:2px solid black\"> </hr>"
   ]
  },
  {
   "cell_type": "markdown",
   "metadata": {},
   "source": [
    "# Scaling Numeric Data"
   ]
  },
  {
   "cell_type": "markdown",
   "metadata": {},
   "source": [
    "### Data Science Pipeline:\n",
    "    - Plan\n",
    "    - Acquire\n",
    "    - Prepare\n",
    "        - train/test split\n",
    "        - SCALERS\n",
    "    - Explore\n",
    "    - Model\n",
    "    - Deliver\n",
    "\n",
    "- Prepare, following train/test split, before EDA (Exploratory Data Analysis) "
   ]
  },
  {
   "cell_type": "markdown",
   "metadata": {},
   "source": [
    "**Scaling**: a transformation we apply to our data in order to increase consistency when comparing independent variables and implementation into distance-based algoriths.\n",
    "\n",
    "<br>\n",
    "- using sklearn on training set only"
   ]
  },
  {
   "cell_type": "markdown",
   "metadata": {},
   "source": [
    "## Why Scale??:\n",
    "- 1. comparing two independent variables\n",
    "- 2. using data to train models for distance-based algoriths\n",
    "- 3. normalizing data to fit the assumptive needs of certain algoriths or tests"
   ]
  },
  {
   "cell_type": "markdown",
   "metadata": {},
   "source": [
    "### Min-Max Scaler:\n",
    "- AKA: Min-Max normalization\n",
    "- min value to max value\n",
    "- on scale from 0 to 1\n",
    "- our \"go-to\" scaler for most cases\n",
    "<br>\n",
    "\n",
    "- you **have** to scale the x and y variable to have the same scale so that you have a **level playing field**\n",
    "<br>\n",
    "\n",
    "- Cartesean origin (0,0)\n",
    "<br>\n",
    "\n",
    "- must be aware of **outliers** because they will greatly affect your scale/ data\n",
    "    - note whatever decision you make (keep or remove)"
   ]
  },
  {
   "cell_type": "markdown",
   "metadata": {},
   "source": [
    "Very cool comparisons: https://stats-demos.zach.wiki/scaling"
   ]
  },
  {
   "cell_type": "markdown",
   "metadata": {},
   "source": [
    "___________________________"
   ]
  },
  {
   "cell_type": "markdown",
   "metadata": {},
   "source": [
    "# Examples of Scaling:\n",
    "- create a classifier that predicts whether or not a party is a smoking table based on tip value and total bill"
   ]
  },
  {
   "cell_type": "markdown",
   "metadata": {},
   "source": [
    "### Our Steps:\n",
    "1. create\n",
    "2. make object\n",
    "3. fit to data\n",
    "4. use it"
   ]
  },
  {
   "cell_type": "code",
   "execution_count": 6,
   "metadata": {},
   "outputs": [],
   "source": [
    "#imports\n",
    "import numpy as np\n",
    "import pandas as pd\n",
    "from pydataset import data\n",
    "import matplotlib.pyplot as plt\n",
    "from sklearn.preprocessing import MinMaxScaler, RobustScaler, StandardScaler\n",
    "from sklearn.model_selection import train_test_split"
   ]
  },
  {
   "cell_type": "code",
   "execution_count": 2,
   "metadata": {},
   "outputs": [],
   "source": [
    "#acquire from pydataset\n",
    "df = data('tips')"
   ]
  },
  {
   "cell_type": "code",
   "execution_count": 3,
   "metadata": {},
   "outputs": [
    {
     "data": {
      "text/html": [
       "<div>\n",
       "<style scoped>\n",
       "    .dataframe tbody tr th:only-of-type {\n",
       "        vertical-align: middle;\n",
       "    }\n",
       "\n",
       "    .dataframe tbody tr th {\n",
       "        vertical-align: top;\n",
       "    }\n",
       "\n",
       "    .dataframe thead th {\n",
       "        text-align: right;\n",
       "    }\n",
       "</style>\n",
       "<table border=\"1\" class=\"dataframe\">\n",
       "  <thead>\n",
       "    <tr style=\"text-align: right;\">\n",
       "      <th></th>\n",
       "      <th>total_bill</th>\n",
       "      <th>tip</th>\n",
       "      <th>sex</th>\n",
       "      <th>smoker</th>\n",
       "      <th>day</th>\n",
       "      <th>time</th>\n",
       "      <th>size</th>\n",
       "    </tr>\n",
       "  </thead>\n",
       "  <tbody>\n",
       "    <tr>\n",
       "      <th>1</th>\n",
       "      <td>16.99</td>\n",
       "      <td>1.01</td>\n",
       "      <td>Female</td>\n",
       "      <td>No</td>\n",
       "      <td>Sun</td>\n",
       "      <td>Dinner</td>\n",
       "      <td>2</td>\n",
       "    </tr>\n",
       "    <tr>\n",
       "      <th>2</th>\n",
       "      <td>10.34</td>\n",
       "      <td>1.66</td>\n",
       "      <td>Male</td>\n",
       "      <td>No</td>\n",
       "      <td>Sun</td>\n",
       "      <td>Dinner</td>\n",
       "      <td>3</td>\n",
       "    </tr>\n",
       "    <tr>\n",
       "      <th>3</th>\n",
       "      <td>21.01</td>\n",
       "      <td>3.50</td>\n",
       "      <td>Male</td>\n",
       "      <td>No</td>\n",
       "      <td>Sun</td>\n",
       "      <td>Dinner</td>\n",
       "      <td>3</td>\n",
       "    </tr>\n",
       "    <tr>\n",
       "      <th>4</th>\n",
       "      <td>23.68</td>\n",
       "      <td>3.31</td>\n",
       "      <td>Male</td>\n",
       "      <td>No</td>\n",
       "      <td>Sun</td>\n",
       "      <td>Dinner</td>\n",
       "      <td>2</td>\n",
       "    </tr>\n",
       "    <tr>\n",
       "      <th>5</th>\n",
       "      <td>24.59</td>\n",
       "      <td>3.61</td>\n",
       "      <td>Female</td>\n",
       "      <td>No</td>\n",
       "      <td>Sun</td>\n",
       "      <td>Dinner</td>\n",
       "      <td>4</td>\n",
       "    </tr>\n",
       "  </tbody>\n",
       "</table>\n",
       "</div>"
      ],
      "text/plain": [
       "   total_bill   tip     sex smoker  day    time  size\n",
       "1       16.99  1.01  Female     No  Sun  Dinner     2\n",
       "2       10.34  1.66    Male     No  Sun  Dinner     3\n",
       "3       21.01  3.50    Male     No  Sun  Dinner     3\n",
       "4       23.68  3.31    Male     No  Sun  Dinner     2\n",
       "5       24.59  3.61  Female     No  Sun  Dinner     4"
      ]
     },
     "execution_count": 3,
     "metadata": {},
     "output_type": "execute_result"
    }
   ],
   "source": [
    "#look at data\n",
    "df.head()"
   ]
  },
  {
   "cell_type": "code",
   "execution_count": 5,
   "metadata": {},
   "outputs": [
    {
     "name": "stdout",
     "output_type": "stream",
     "text": [
      "<class 'pandas.core.frame.DataFrame'>\n",
      "Int64Index: 244 entries, 1 to 244\n",
      "Data columns (total 7 columns):\n",
      " #   Column      Non-Null Count  Dtype  \n",
      "---  ------      --------------  -----  \n",
      " 0   total_bill  244 non-null    float64\n",
      " 1   tip         244 non-null    float64\n",
      " 2   sex         244 non-null    object \n",
      " 3   smoker      244 non-null    object \n",
      " 4   day         244 non-null    object \n",
      " 5   time        244 non-null    object \n",
      " 6   size        244 non-null    int64  \n",
      "dtypes: float64(2), int64(1), object(4)\n",
      "memory usage: 15.2+ KB\n"
     ]
    }
   ],
   "source": [
    "#get dtype, size, nulls, etc\n",
    "df.info()"
   ]
  },
  {
   "cell_type": "code",
   "execution_count": 7,
   "metadata": {},
   "outputs": [],
   "source": [
    "#split the data\n",
    "train, test = train_test_split(df, train_size = 0.8, random_state = 123)\n",
    "train, validate = train_test_split(train, train_size = 0.7, random_state = 123)"
   ]
  },
  {
   "cell_type": "markdown",
   "metadata": {},
   "source": [
    "<div class=\"alert alert-block alert-info\">\n",
    "CANNOT stratify in train, test split with Regression "
   ]
  },
  {
   "cell_type": "code",
   "execution_count": 8,
   "metadata": {},
   "outputs": [
    {
     "data": {
      "text/plain": [
       "((136, 7), (59, 7), (49, 7))"
      ]
     },
     "execution_count": 8,
     "metadata": {},
     "output_type": "execute_result"
    }
   ],
   "source": [
    "#get shape of all 3 datasets\n",
    "train.shape, validate.shape, test.shape"
   ]
  },
  {
   "cell_type": "code",
   "execution_count": 9,
   "metadata": {},
   "outputs": [],
   "source": [
    "#create the scaler\n",
    "#fit the scaler\n",
    "#use the scaler"
   ]
  },
  {
   "cell_type": "code",
   "execution_count": 10,
   "metadata": {},
   "outputs": [],
   "source": [
    "#assign to variable #need scaler for each independent variable\n",
    "#create it\n",
    "scaler_tip = MinMaxScaler()"
   ]
  },
  {
   "cell_type": "code",
   "execution_count": 11,
   "metadata": {},
   "outputs": [
    {
     "data": {
      "text/plain": [
       "MinMaxScaler()"
      ]
     },
     "execution_count": 11,
     "metadata": {},
     "output_type": "execute_result"
    }
   ],
   "source": [
    "#fit it\n",
    "scaler_tip.fit(train[['tip']])"
   ]
  },
  {
   "cell_type": "code",
   "execution_count": 12,
   "metadata": {},
   "outputs": [],
   "source": [
    "#use it\n",
    "#make a new column within train\n",
    "#use 'transform' instead of 'predict'\n",
    "train['tip_minmax'] = scaler_tip.transform(train[['tip']])"
   ]
  },
  {
   "cell_type": "code",
   "execution_count": 14,
   "metadata": {},
   "outputs": [
    {
     "data": {
      "text/html": [
       "<div>\n",
       "<style scoped>\n",
       "    .dataframe tbody tr th:only-of-type {\n",
       "        vertical-align: middle;\n",
       "    }\n",
       "\n",
       "    .dataframe tbody tr th {\n",
       "        vertical-align: top;\n",
       "    }\n",
       "\n",
       "    .dataframe thead th {\n",
       "        text-align: right;\n",
       "    }\n",
       "</style>\n",
       "<table border=\"1\" class=\"dataframe\">\n",
       "  <thead>\n",
       "    <tr style=\"text-align: right;\">\n",
       "      <th></th>\n",
       "      <th>tip</th>\n",
       "      <th>tip_minmax</th>\n",
       "    </tr>\n",
       "  </thead>\n",
       "  <tbody>\n",
       "    <tr>\n",
       "      <th>19</th>\n",
       "      <td>3.50</td>\n",
       "      <td>0.31250</td>\n",
       "    </tr>\n",
       "    <tr>\n",
       "      <th>173</th>\n",
       "      <td>5.15</td>\n",
       "      <td>0.51875</td>\n",
       "    </tr>\n",
       "    <tr>\n",
       "      <th>119</th>\n",
       "      <td>1.80</td>\n",
       "      <td>0.10000</td>\n",
       "    </tr>\n",
       "    <tr>\n",
       "      <th>29</th>\n",
       "      <td>4.30</td>\n",
       "      <td>0.41250</td>\n",
       "    </tr>\n",
       "    <tr>\n",
       "      <th>238</th>\n",
       "      <td>1.17</td>\n",
       "      <td>0.02125</td>\n",
       "    </tr>\n",
       "  </tbody>\n",
       "</table>\n",
       "</div>"
      ],
      "text/plain": [
       "      tip  tip_minmax\n",
       "19   3.50     0.31250\n",
       "173  5.15     0.51875\n",
       "119  1.80     0.10000\n",
       "29   4.30     0.41250\n",
       "238  1.17     0.02125"
      ]
     },
     "execution_count": 14,
     "metadata": {},
     "output_type": "execute_result"
    }
   ],
   "source": [
    "#take a look at just tip and tipminmax\n",
    "train[['tip', 'tip_minmax']].head()"
   ]
  },
  {
   "cell_type": "code",
   "execution_count": 15,
   "metadata": {},
   "outputs": [
    {
     "data": {
      "text/html": [
       "<div>\n",
       "<style scoped>\n",
       "    .dataframe tbody tr th:only-of-type {\n",
       "        vertical-align: middle;\n",
       "    }\n",
       "\n",
       "    .dataframe tbody tr th {\n",
       "        vertical-align: top;\n",
       "    }\n",
       "\n",
       "    .dataframe thead th {\n",
       "        text-align: right;\n",
       "    }\n",
       "</style>\n",
       "<table border=\"1\" class=\"dataframe\">\n",
       "  <thead>\n",
       "    <tr style=\"text-align: right;\">\n",
       "      <th></th>\n",
       "      <th>tip</th>\n",
       "      <th>total_bill</th>\n",
       "      <th>tip_minmax</th>\n",
       "    </tr>\n",
       "  </thead>\n",
       "  <tbody>\n",
       "    <tr>\n",
       "      <th>count</th>\n",
       "      <td>136.000000</td>\n",
       "      <td>136.000000</td>\n",
       "      <td>136.000000</td>\n",
       "    </tr>\n",
       "    <tr>\n",
       "      <th>mean</th>\n",
       "      <td>2.946985</td>\n",
       "      <td>18.790515</td>\n",
       "      <td>0.243373</td>\n",
       "    </tr>\n",
       "    <tr>\n",
       "      <th>std</th>\n",
       "      <td>1.456611</td>\n",
       "      <td>8.779733</td>\n",
       "      <td>0.182076</td>\n",
       "    </tr>\n",
       "    <tr>\n",
       "      <th>min</th>\n",
       "      <td>1.000000</td>\n",
       "      <td>3.070000</td>\n",
       "      <td>0.000000</td>\n",
       "    </tr>\n",
       "    <tr>\n",
       "      <th>25%</th>\n",
       "      <td>2.000000</td>\n",
       "      <td>12.645000</td>\n",
       "      <td>0.125000</td>\n",
       "    </tr>\n",
       "    <tr>\n",
       "      <th>50%</th>\n",
       "      <td>2.680000</td>\n",
       "      <td>16.710000</td>\n",
       "      <td>0.210000</td>\n",
       "    </tr>\n",
       "    <tr>\n",
       "      <th>75%</th>\n",
       "      <td>3.500000</td>\n",
       "      <td>22.752500</td>\n",
       "      <td>0.312500</td>\n",
       "    </tr>\n",
       "    <tr>\n",
       "      <th>max</th>\n",
       "      <td>9.000000</td>\n",
       "      <td>48.330000</td>\n",
       "      <td>1.000000</td>\n",
       "    </tr>\n",
       "  </tbody>\n",
       "</table>\n",
       "</div>"
      ],
      "text/plain": [
       "              tip  total_bill  tip_minmax\n",
       "count  136.000000  136.000000  136.000000\n",
       "mean     2.946985   18.790515    0.243373\n",
       "std      1.456611    8.779733    0.182076\n",
       "min      1.000000    3.070000    0.000000\n",
       "25%      2.000000   12.645000    0.125000\n",
       "50%      2.680000   16.710000    0.210000\n",
       "75%      3.500000   22.752500    0.312500\n",
       "max      9.000000   48.330000    1.000000"
      ]
     },
     "execution_count": 15,
     "metadata": {},
     "output_type": "execute_result"
    }
   ],
   "source": [
    "#descriptive statistics on columns i will be using to answer the question\n",
    "train[['tip', 'total_bill', 'tip_minmax']].describe()"
   ]
  },
  {
   "cell_type": "code",
   "execution_count": 16,
   "metadata": {},
   "outputs": [
    {
     "name": "stderr",
     "output_type": "stream",
     "text": [
      "<ipython-input-16-45b223bf4dfa>:3: SettingWithCopyWarning: \n",
      "A value is trying to be set on a copy of a slice from a DataFrame.\n",
      "Try using .loc[row_indexer,col_indexer] = value instead\n",
      "\n",
      "See the caveats in the documentation: https://pandas.pydata.org/pandas-docs/stable/user_guide/indexing.html#returning-a-view-versus-a-copy\n",
      "  test['tip_minmax'] = scaler_tip.transform(test[['tip']])\n"
     ]
    }
   ],
   "source": [
    "# apply the saved sclaer to our validate and test sets\n",
    "validate['tip_minmax'] = scaler_tip.transform(validate[['tip']])\n",
    "test['tip_minmax'] = scaler_tip.transform(test[['tip']])"
   ]
  },
  {
   "cell_type": "code",
   "execution_count": 17,
   "metadata": {},
   "outputs": [
    {
     "data": {
      "text/html": [
       "<div>\n",
       "<style scoped>\n",
       "    .dataframe tbody tr th:only-of-type {\n",
       "        vertical-align: middle;\n",
       "    }\n",
       "\n",
       "    .dataframe tbody tr th {\n",
       "        vertical-align: top;\n",
       "    }\n",
       "\n",
       "    .dataframe thead th {\n",
       "        text-align: right;\n",
       "    }\n",
       "</style>\n",
       "<table border=\"1\" class=\"dataframe\">\n",
       "  <thead>\n",
       "    <tr style=\"text-align: right;\">\n",
       "      <th></th>\n",
       "      <th>total_bill</th>\n",
       "      <th>tip</th>\n",
       "      <th>sex</th>\n",
       "      <th>smoker</th>\n",
       "      <th>day</th>\n",
       "      <th>time</th>\n",
       "      <th>size</th>\n",
       "      <th>tip_minmax</th>\n",
       "    </tr>\n",
       "  </thead>\n",
       "  <tbody>\n",
       "    <tr>\n",
       "      <th>113</th>\n",
       "      <td>38.07</td>\n",
       "      <td>4.00</td>\n",
       "      <td>Male</td>\n",
       "      <td>No</td>\n",
       "      <td>Sun</td>\n",
       "      <td>Dinner</td>\n",
       "      <td>3</td>\n",
       "      <td>0.37500</td>\n",
       "    </tr>\n",
       "    <tr>\n",
       "      <th>20</th>\n",
       "      <td>20.65</td>\n",
       "      <td>3.35</td>\n",
       "      <td>Male</td>\n",
       "      <td>No</td>\n",
       "      <td>Sat</td>\n",
       "      <td>Dinner</td>\n",
       "      <td>3</td>\n",
       "      <td>0.29375</td>\n",
       "    </tr>\n",
       "    <tr>\n",
       "      <th>188</th>\n",
       "      <td>30.46</td>\n",
       "      <td>2.00</td>\n",
       "      <td>Male</td>\n",
       "      <td>Yes</td>\n",
       "      <td>Sun</td>\n",
       "      <td>Dinner</td>\n",
       "      <td>5</td>\n",
       "      <td>0.12500</td>\n",
       "    </tr>\n",
       "    <tr>\n",
       "      <th>170</th>\n",
       "      <td>10.63</td>\n",
       "      <td>2.00</td>\n",
       "      <td>Female</td>\n",
       "      <td>Yes</td>\n",
       "      <td>Sat</td>\n",
       "      <td>Dinner</td>\n",
       "      <td>2</td>\n",
       "      <td>0.12500</td>\n",
       "    </tr>\n",
       "    <tr>\n",
       "      <th>32</th>\n",
       "      <td>18.35</td>\n",
       "      <td>2.50</td>\n",
       "      <td>Male</td>\n",
       "      <td>No</td>\n",
       "      <td>Sat</td>\n",
       "      <td>Dinner</td>\n",
       "      <td>4</td>\n",
       "      <td>0.18750</td>\n",
       "    </tr>\n",
       "  </tbody>\n",
       "</table>\n",
       "</div>"
      ],
      "text/plain": [
       "     total_bill   tip     sex smoker  day    time  size  tip_minmax\n",
       "113       38.07  4.00    Male     No  Sun  Dinner     3     0.37500\n",
       "20        20.65  3.35    Male     No  Sat  Dinner     3     0.29375\n",
       "188       30.46  2.00    Male    Yes  Sun  Dinner     5     0.12500\n",
       "170       10.63  2.00  Female    Yes  Sat  Dinner     2     0.12500\n",
       "32        18.35  2.50    Male     No  Sat  Dinner     4     0.18750"
      ]
     },
     "execution_count": 17,
     "metadata": {},
     "output_type": "execute_result"
    }
   ],
   "source": [
    "test.head()"
   ]
  },
  {
   "cell_type": "markdown",
   "metadata": {},
   "source": [
    "### Streamline the process"
   ]
  },
  {
   "cell_type": "code",
   "execution_count": 18,
   "metadata": {},
   "outputs": [],
   "source": [
    "#fit and transform at the same time:\n",
    "totalbillminmax= MinMaxScaler()\n",
    "train['total_bill_minmax'] = totalbillminmax.fit_transform(train[['total_bill']])"
   ]
  },
  {
   "cell_type": "code",
   "execution_count": 20,
   "metadata": {},
   "outputs": [
    {
     "data": {
      "text/plain": [
       "(array([29., 37., 31., 19.,  4.,  7.,  5.,  2.,  1.,  1.]),\n",
       " array([1. , 1.8, 2.6, 3.4, 4.2, 5. , 5.8, 6.6, 7.4, 8.2, 9. ]),\n",
       " <BarContainer object of 10 artists>)"
      ]
     },
     "execution_count": 20,
     "metadata": {},
     "output_type": "execute_result"
    },
    {
     "data": {
      "image/png": "[encoded data removed]",
      "text/plain": [
       "<Figure size 432x288 with 1 Axes>"
      ]
     },
     "metadata": {
      "needs_background": "light"
     },
     "output_type": "display_data"
    }
   ],
   "source": [
    "#not scaled tip\n",
    "plt.hist(train['tip'])"
   ]
  },
  {
   "cell_type": "code",
   "execution_count": 21,
   "metadata": {},
   "outputs": [
    {
     "data": {
      "text/plain": [
       "(array([29., 37., 31., 19.,  4.,  7.,  5.,  2.,  1.,  1.]),\n",
       " array([0. , 0.1, 0.2, 0.3, 0.4, 0.5, 0.6, 0.7, 0.8, 0.9, 1. ]),\n",
       " <BarContainer object of 10 artists>)"
      ]
     },
     "execution_count": 21,
     "metadata": {},
     "output_type": "execute_result"
    },
    {
     "data": {
      "image/png": "[encoded data removed]",
      "text/plain": [
       "<Figure size 432x288 with 1 Axes>"
      ]
     },
     "metadata": {
      "needs_background": "light"
     },
     "output_type": "display_data"
    }
   ],
   "source": [
    "#min max scaler (0-1)\n",
    "plt.hist(train['tip_minmax'])"
   ]
  },
  {
   "cell_type": "code",
   "execution_count": 25,
   "metadata": {},
   "outputs": [],
   "source": [
    "#Comparison - try with robust scaler and standard scaler\n",
    "#fit and transform in one step\n",
    "train['robust_tip'] = RobustScaler().fit_transform(train[['tip']])\n",
    "train['standard_tip'] = StandardScaler().fit_transform(train[['tip']])"
   ]
  },
  {
   "cell_type": "code",
   "execution_count": 26,
   "metadata": {},
   "outputs": [
    {
     "data": {
      "image/png": "[encoded data removed]",
      "text/plain": [
       "<Figure size 432x288 with 1 Axes>"
      ]
     },
     "metadata": {
      "needs_background": "light"
     },
     "output_type": "display_data"
    }
   ],
   "source": [
    "#standard scaler histogram of tip\n",
    "plt.hist(train['standard_tip'])\n",
    "plt.show()"
   ]
  },
  {
   "cell_type": "code",
   "execution_count": 27,
   "metadata": {},
   "outputs": [
    {
     "data": {
      "image/png": "[encoded data removed]",
      "text/plain": [
       "<Figure size 432x288 with 1 Axes>"
      ]
     },
     "metadata": {
      "needs_background": "light"
     },
     "output_type": "display_data"
    }
   ],
   "source": [
    "#robust scaler histogram of tip\n",
    "plt.hist(train['robust_tip'])\n",
    "plt.show()"
   ]
  },
  {
   "cell_type": "markdown",
   "metadata": {},
   "source": [
    "<hr style=\"border:2px solid black\"> </hr>"
   ]
  },
  {
   "cell_type": "markdown",
   "metadata": {},
   "source": [
    "# More Scaling: John Salas"
   ]
  },
  {
   "cell_type": "markdown",
   "metadata": {},
   "source": [
    "- ML models cannot read column names\n",
    "- the more your model relies on distance... the more scaling will affect your results\n",
    "- random forest and decision tree are **NOT** affected by scaling\n",
    "- KNN can be significantly improved by scaling\n",
    "- scaling can help with visualization"
   ]
  },
  {
   "cell_type": "markdown",
   "metadata": {},
   "source": [
    "<hr style=\"border:2px solid black\"> </hr>"
   ]
  },
  {
   "cell_type": "markdown",
   "metadata": {},
   "source": [
    "# Exploration"
   ]
  },
  {
   "cell_type": "code",
   "execution_count": 1,
   "metadata": {},
   "outputs": [],
   "source": [
    "import warnings\n",
    "warnings.filterwarnings(\"ignore\")\n",
    "\n",
    "import pandas as pd\n",
    "import numpy as np\n",
    "\n",
    "import matplotlib.pyplot as plt\n",
    "import seaborn as sns\n",
    "\n",
    "from sklearn.model_selection import train_test_split\n",
    "from scipy.stats import pearsonr, spearmanr\n",
    "\n",
    "import env\n",
    "import wrangle"
   ]
  },
  {
   "cell_type": "markdown",
   "metadata": {},
   "source": [
    "### Main Stages of exploration:\n",
    "- bring in data wrangle\n",
    "- hypothesize\n",
    "- visualize: heatmaps, scatterplots, pairgrid, jointplot\n",
    "- Test your hypothesis\n"
   ]
  },
  {
   "cell_type": "markdown",
   "metadata": {},
   "source": [
    "<div class=\"alert alert-block alert-info\">\n",
    "    \n",
    "Take these steps:\n",
    "1. Look\n",
    "2. Guess\n",
    "3. Test\n",
    "4. Conclude"
   ]
  },
  {
   "cell_type": "markdown",
   "metadata": {},
   "source": [
    "## Types of Visuals:"
   ]
  },
  {
   "cell_type": "markdown",
   "metadata": {},
   "source": [
    "#### Univariate Distribution:\n",
    "\n",
    "- **Continuous varible distributions**:\n",
    "     - df.[col].hist(grid=False, bins=10)\n",
    "     - sns.displot(x, data)\n",
    "     - sns.boxplot(data)\n",
    "- **Discrete variable distribution**:\n",
    "     - sns.countplot(x='discrete_var', data)"
   ]
  },
  {
   "cell_type": "markdown",
   "metadata": {},
   "source": [
    "#### Continious with Continuous:\n",
    "\n",
    "- Seaborn pairplot to create a scatter matrix visualizing all continous variable relationships along with individiual distributions.\n",
    "    - sns.pairplot(data)\n",
    "- Seaborn relplot for a simple scatter plot of two continuous variables.\n",
    "    - sns.relplot(x, y, data, kind=scatter)\n",
    "- Seaborn lmplot for a simple scatter plot of two continous variables with a regression line. I can pass a discrete variable to col or hue to bring in another dimension, too.\n",
    "    - sns.lmplot(x, y, data, scatter=True, hue=None, col=None)\n",
    "- Seaborn jointplot for a simple scatter plot of two continuous variables with a regression line and the addition of a histogram for each variable.\n",
    "    - sns.jointplot(x, y, data, kind=scatter)\n",
    "- Seaborn heatmap of Correlation Coefficients for all numeric columns in a dataset.\n",
    "    - sns.heatmap(train.corr())"
   ]
  },
  {
   "cell_type": "markdown",
   "metadata": {},
   "source": [
    "#### Discrete with Continuous\n",
    "\n",
    "- Seaborn swarmplot or stripplot to examine a discrete variable by a continuous.\n",
    "    - sns.swarmplot(x='discrete_var', y='continuous_var', data=train)\n",
    "    - sns.stripplot(x='discrete_var', y='continuous_var', data=train)\n",
    "- Seaborn boxplot, violinplot, or barplot to show the distribution of a continuous variable by a discrete variable.\n",
    "    - sns.boxplot(x='discrete_var', y='continuous_var', data=train)\n",
    "    - sns.violinplot(x='discrete_var', y='continuous_var', data=train)\n",
    "    - sns.barplot(x='discrete_var', y='continuous_var', data=train)"
   ]
  },
  {
   "cell_type": "markdown",
   "metadata": {},
   "source": [
    "#### Discrete with Discrete\n",
    "\n",
    "- Seaborn heatmap with a pandas crosstab to examine discrete variables with discrete.\n",
    "    - ctab = pd.crosstab(index, columns, values)\n",
    "    - sns.heatmap(ctab, annot=True)\n"
   ]
  },
  {
   "cell_type": "markdown",
   "metadata": {},
   "source": [
    "________________________________"
   ]
  },
  {
   "cell_type": "code",
   "execution_count": null,
   "metadata": {},
   "outputs": [],
   "source": [
    "#Split your Data to avoid leakage"
   ]
  },
  {
   "cell_type": "code",
   "execution_count": null,
   "metadata": {},
   "outputs": [],
   "source": [
    "#not normally distributed- use Spearman's instead of Pearson's"
   ]
  },
  {
   "cell_type": "markdown",
   "metadata": {},
   "source": [
    "<hr style=\"border:2px solid black\"> </hr>"
   ]
  },
  {
   "cell_type": "markdown",
   "metadata": {},
   "source": [
    "# Evaluating Regression Models"
   ]
  },
  {
   "cell_type": "markdown",
   "metadata": {},
   "source": [
    "### Vocab:\n",
    "\n",
    "- Sum of squared Errors (SSE)\n",
    "    - squared distances between actual and predicted data points\n",
    "\n",
    "<br>\n",
    "\n",
    "- Mean Squared Error (MSE)\n",
    "    - average size of the squares\n",
    "\n",
    "<br> \n",
    "\n",
    "- Root Mean Squared Error (RMSE)\n",
    "    - same units as y-value\n",
    "    - average length of one side of the square\n",
    "\n",
    "<br>\n",
    "\n",
    "- Total Sum of Squares (TSS)\n",
    "    - distances between actual and average y-values\n",
    "\n",
    "<br>\n",
    "\n",
    "- Explained Sum of Squares (ESS)\n",
    "    - distance between prediction and average y-values\n",
    "\n",
    "<br>\n",
    "\n",
    "- $R^2$ - explained variance\n",
    "    - ratio of ESS to TSS\n",
    "    - $R^2$ = 1 ; a ***perfect*** model\n",
    "    - **baseline**: ESS = 0, $R^2$= 0\n",
    "        - AKA intercept only model\n",
    "        - just a horizontal line"
   ]
  },
  {
   "cell_type": "markdown",
   "metadata": {},
   "source": [
    "## WHY evaluate models? WHY does it matter?\n",
    "\n",
    "- Does this model add any value?\n",
    "- Which model is better?\n",
    "- How confident am I in my model's predictions?"
   ]
  },
  {
   "cell_type": "markdown",
   "metadata": {},
   "source": [
    "## IMPORTANT!\n",
    "- rmse: how far off the typical prediction is; same units as the target; smaller is better\n",
    "- $R^2$: variance in y explained by X; closer to 1 is better"
   ]
  },
  {
   "cell_type": "markdown",
   "metadata": {},
   "source": [
    "__________________________________"
   ]
  },
  {
   "cell_type": "markdown",
   "metadata": {},
   "source": [
    "### EXERCISES"
   ]
  },
  {
   "cell_type": "code",
   "execution_count": 27,
   "metadata": {},
   "outputs": [],
   "source": [
    "import pandas as pd\n",
    "import numpy as np\n",
    "from sklearn.linear_model import LinearRegression\n",
    "from sklearn.metrics import r2_score, mean_squared_error\n",
    "import math\n",
    "import matplotlib.pyplot as plt"
   ]
  },
  {
   "cell_type": "code",
   "execution_count": 3,
   "metadata": {},
   "outputs": [
    {
     "data": {
      "text/html": [
       "<div>\n",
       "<style scoped>\n",
       "    .dataframe tbody tr th:only-of-type {\n",
       "        vertical-align: middle;\n",
       "    }\n",
       "\n",
       "    .dataframe tbody tr th {\n",
       "        vertical-align: top;\n",
       "    }\n",
       "\n",
       "    .dataframe thead th {\n",
       "        text-align: right;\n",
       "    }\n",
       "</style>\n",
       "<table border=\"1\" class=\"dataframe\">\n",
       "  <thead>\n",
       "    <tr style=\"text-align: right;\">\n",
       "      <th></th>\n",
       "      <th>x1</th>\n",
       "      <th>x2</th>\n",
       "      <th>y</th>\n",
       "    </tr>\n",
       "  </thead>\n",
       "  <tbody>\n",
       "    <tr>\n",
       "      <th>0</th>\n",
       "      <td>-1.085631</td>\n",
       "      <td>0.642055</td>\n",
       "      <td>-0.091921</td>\n",
       "    </tr>\n",
       "    <tr>\n",
       "      <th>1</th>\n",
       "      <td>0.997345</td>\n",
       "      <td>-1.977888</td>\n",
       "      <td>-1.279595</td>\n",
       "    </tr>\n",
       "    <tr>\n",
       "      <th>2</th>\n",
       "      <td>0.282978</td>\n",
       "      <td>0.712265</td>\n",
       "      <td>2.095594</td>\n",
       "    </tr>\n",
       "    <tr>\n",
       "      <th>3</th>\n",
       "      <td>-1.506295</td>\n",
       "      <td>2.598304</td>\n",
       "      <td>1.436158</td>\n",
       "    </tr>\n",
       "    <tr>\n",
       "      <th>4</th>\n",
       "      <td>-0.578600</td>\n",
       "      <td>-0.024626</td>\n",
       "      <td>-0.606380</td>\n",
       "    </tr>\n",
       "  </tbody>\n",
       "</table>\n",
       "</div>"
      ],
      "text/plain": [
       "         x1        x2         y\n",
       "0 -1.085631  0.642055 -0.091921\n",
       "1  0.997345 -1.977888 -1.279595\n",
       "2  0.282978  0.712265  2.095594\n",
       "3 -1.506295  2.598304  1.436158\n",
       "4 -0.578600 -0.024626 -0.606380"
      ]
     },
     "execution_count": 3,
     "metadata": {},
     "output_type": "execute_result"
    }
   ],
   "source": [
    "np.random.seed(123)\n",
    "\n",
    "df = pd.DataFrame()\n",
    "df['x1'] = np.random.randn(100)\n",
    "df['x2'] = np.random.randn(100)\n",
    "df['y'] = df.x1 + df.x2 + np.random.randn(100) * .5\n",
    "\n",
    "df.head()"
   ]
  },
  {
   "cell_type": "markdown",
   "metadata": {},
   "source": [
    "## Make predictions:"
   ]
  },
  {
   "cell_type": "code",
   "execution_count": 5,
   "metadata": {},
   "outputs": [],
   "source": [
    "#Build the model/ fit the model\n",
    "model = LinearRegression().fit(df[['x1', 'x2']], df.y)\n",
    "df['yhat']= model.predict(df[['x1', 'x2']])"
   ]
  },
  {
   "cell_type": "code",
   "execution_count": 6,
   "metadata": {},
   "outputs": [],
   "source": [
    "df['yhat_baseline'] = df.y.mean()"
   ]
  },
  {
   "cell_type": "code",
   "execution_count": 7,
   "metadata": {},
   "outputs": [
    {
     "data": {
      "text/html": [
       "<div>\n",
       "<style scoped>\n",
       "    .dataframe tbody tr th:only-of-type {\n",
       "        vertical-align: middle;\n",
       "    }\n",
       "\n",
       "    .dataframe tbody tr th {\n",
       "        vertical-align: top;\n",
       "    }\n",
       "\n",
       "    .dataframe thead th {\n",
       "        text-align: right;\n",
       "    }\n",
       "</style>\n",
       "<table border=\"1\" class=\"dataframe\">\n",
       "  <thead>\n",
       "    <tr style=\"text-align: right;\">\n",
       "      <th></th>\n",
       "      <th>x1</th>\n",
       "      <th>x2</th>\n",
       "      <th>y</th>\n",
       "      <th>yhat</th>\n",
       "      <th>yhat_baseline</th>\n",
       "    </tr>\n",
       "  </thead>\n",
       "  <tbody>\n",
       "    <tr>\n",
       "      <th>0</th>\n",
       "      <td>-1.085631</td>\n",
       "      <td>0.642055</td>\n",
       "      <td>-0.091921</td>\n",
       "      <td>-0.455018</td>\n",
       "      <td>-0.039992</td>\n",
       "    </tr>\n",
       "    <tr>\n",
       "      <th>1</th>\n",
       "      <td>0.997345</td>\n",
       "      <td>-1.977888</td>\n",
       "      <td>-1.279595</td>\n",
       "      <td>-1.075294</td>\n",
       "      <td>-0.039992</td>\n",
       "    </tr>\n",
       "    <tr>\n",
       "      <th>2</th>\n",
       "      <td>0.282978</td>\n",
       "      <td>0.712265</td>\n",
       "      <td>2.095594</td>\n",
       "      <td>0.949409</td>\n",
       "      <td>-0.039992</td>\n",
       "    </tr>\n",
       "    <tr>\n",
       "      <th>3</th>\n",
       "      <td>-1.506295</td>\n",
       "      <td>2.598304</td>\n",
       "      <td>1.436158</td>\n",
       "      <td>1.113599</td>\n",
       "      <td>-0.039992</td>\n",
       "    </tr>\n",
       "    <tr>\n",
       "      <th>4</th>\n",
       "      <td>-0.578600</td>\n",
       "      <td>-0.024626</td>\n",
       "      <td>-0.606380</td>\n",
       "      <td>-0.635276</td>\n",
       "      <td>-0.039992</td>\n",
       "    </tr>\n",
       "  </tbody>\n",
       "</table>\n",
       "</div>"
      ],
      "text/plain": [
       "         x1        x2         y      yhat  yhat_baseline\n",
       "0 -1.085631  0.642055 -0.091921 -0.455018      -0.039992\n",
       "1  0.997345 -1.977888 -1.279595 -1.075294      -0.039992\n",
       "2  0.282978  0.712265  2.095594  0.949409      -0.039992\n",
       "3 -1.506295  2.598304  1.436158  1.113599      -0.039992\n",
       "4 -0.578600 -0.024626 -0.606380 -0.635276      -0.039992"
      ]
     },
     "execution_count": 7,
     "metadata": {},
     "output_type": "execute_result"
    }
   ],
   "source": [
    "df.head()"
   ]
  },
  {
   "cell_type": "markdown",
   "metadata": {},
   "source": [
    "## Calculate Evaluation Metrics:"
   ]
  },
  {
   "cell_type": "code",
   "execution_count": 9,
   "metadata": {},
   "outputs": [],
   "source": [
    "#these are the residuals\n",
    "df['residuals']= df.y - df.yhat"
   ]
  },
  {
   "cell_type": "code",
   "execution_count": 10,
   "metadata": {},
   "outputs": [],
   "source": [
    "df['baseline_residuals'] = df.y - df.yhat_baseline"
   ]
  },
  {
   "cell_type": "code",
   "execution_count": 11,
   "metadata": {},
   "outputs": [
    {
     "data": {
      "text/plain": [
       "23.398604227429"
      ]
     },
     "execution_count": 11,
     "metadata": {},
     "output_type": "execute_result"
    }
   ],
   "source": [
    "sse = (df.residuals **2).sum()\n",
    "sse"
   ]
  },
  {
   "cell_type": "code",
   "execution_count": 12,
   "metadata": {},
   "outputs": [],
   "source": [
    "n = df.shape[0]"
   ]
  },
  {
   "cell_type": "code",
   "execution_count": 13,
   "metadata": {},
   "outputs": [
    {
     "data": {
      "text/plain": [
       "0.23398604227429"
      ]
     },
     "execution_count": 13,
     "metadata": {},
     "output_type": "execute_result"
    }
   ],
   "source": [
    "mse = sse/n\n",
    "mse"
   ]
  },
  {
   "cell_type": "code",
   "execution_count": 16,
   "metadata": {},
   "outputs": [
    {
     "data": {
      "text/plain": [
       "0.48372103765940344"
      ]
     },
     "execution_count": 16,
     "metadata": {},
     "output_type": "execute_result"
    }
   ],
   "source": [
    "rmse = math.sqrt(mse)\n",
    "rmse"
   ]
  },
  {
   "cell_type": "code",
   "execution_count": 18,
   "metadata": {},
   "outputs": [
    {
     "name": "stdout",
     "output_type": "stream",
     "text": [
      "\n",
      "Baseline:\n",
      "\n",
      "sse: 236.31687655079307\n",
      "mse: 2.3631687655079308\n",
      "rmse: 1.5372601489363895\n",
      "\n"
     ]
    }
   ],
   "source": [
    "sse_baseline = (df.baseline_residuals **2).sum()\n",
    "mse_baseline = sse_baseline/n\n",
    "rmse_baseline = math.sqrt(mse_baseline)\n",
    "\n",
    "print(f'''\n",
    "Baseline:\n",
    "\n",
    "sse: {sse_baseline}\n",
    "mse: {mse_baseline}\n",
    "rmse: {rmse_baseline}\n",
    "''')"
   ]
  },
  {
   "cell_type": "code",
   "execution_count": 21,
   "metadata": {},
   "outputs": [
    {
     "data": {
      "text/plain": [
       "0.9009863173170374"
      ]
     },
     "execution_count": 21,
     "metadata": {},
     "output_type": "execute_result"
    }
   ],
   "source": [
    "#model\n",
    "ess= ((df.yhat - df.y.mean()) **2).sum()\n",
    "tss = ((df.y- df.y.mean())**2).sum()\n",
    "\n",
    "ess/tss"
   ]
  },
  {
   "cell_type": "code",
   "execution_count": 22,
   "metadata": {},
   "outputs": [
    {
     "name": "stdout",
     "output_type": "stream",
     "text": [
      "ess: 0.000000\n"
     ]
    },
    {
     "data": {
      "text/plain": [
       "0.0"
      ]
     },
     "execution_count": 22,
     "metadata": {},
     "output_type": "execute_result"
    }
   ],
   "source": [
    "#baseline\n",
    "ess= ((df.yhat_baseline - df.y.mean()) **2).sum()\n",
    "tss = ((df.y- df.y.mean())**2).sum()\n",
    "\n",
    "print('ess: %4f' % ess)\n",
    "\n",
    "ess/tss"
   ]
  },
  {
   "cell_type": "markdown",
   "metadata": {},
   "source": [
    "## Visualize Residuals"
   ]
  },
  {
   "cell_type": "markdown",
   "metadata": {},
   "source": [
    "- if we find a pattern in the residuals means there is something in the model that wasnt captured\n",
    "- residual of zero: means we predicted **perfectly**"
   ]
  },
  {
   "cell_type": "code",
   "execution_count": 23,
   "metadata": {},
   "outputs": [
    {
     "data": {
      "text/plain": [
       "<AxesSubplot:ylabel='Frequency'>"
      ]
     },
     "execution_count": 23,
     "metadata": {},
     "output_type": "execute_result"
    },
    {
     "data": {
      "image/png": "[encoded data removed]",
      "text/plain": [
       "<Figure size 432x288 with 1 Axes>"
      ]
     },
     "metadata": {
      "needs_background": "light"
     },
     "output_type": "display_data"
    }
   ],
   "source": [
    "#distribution of baseline residuals\n",
    "df.residuals.plot.hist()\n",
    "\n",
    "#this shows:\n",
    "#normally distributed\n",
    "#equally likely to shoot high as we are to shoot low"
   ]
  },
  {
   "cell_type": "code",
   "execution_count": 24,
   "metadata": {},
   "outputs": [
    {
     "data": {
      "text/plain": [
       "<AxesSubplot:ylabel='Frequency'>"
      ]
     },
     "execution_count": 24,
     "metadata": {},
     "output_type": "execute_result"
    },
    {
     "data": {
      "image/png": "[encoded data removed]",
      "text/plain": [
       "<Figure size 432x288 with 1 Axes>"
      ]
     },
     "metadata": {
      "needs_background": "light"
     },
     "output_type": "display_data"
    }
   ],
   "source": [
    "#distribution of baseline residuals\n",
    "df.baseline_residuals.plot.hist()\n",
    "\n",
    "#this shows:\n",
    "#normally distributed\n",
    "#larger spread (-4 to 3)"
   ]
  },
  {
   "cell_type": "code",
   "execution_count": 29,
   "metadata": {},
   "outputs": [
    {
     "data": {
      "text/plain": [
       "<matplotlib.legend.Legend at 0x7fbf38713e20>"
      ]
     },
     "execution_count": 29,
     "metadata": {},
     "output_type": "execute_result"
    },
    {
     "data": {
      "image/png": "[encoded data removed]",
      "text/plain": [
       "<Figure size 936x504 with 1 Axes>"
      ]
     },
     "metadata": {
      "needs_background": "light"
     },
     "output_type": "display_data"
    }
   ],
   "source": [
    "fig, ax = plt.subplots(figsize=(13,7))\n",
    "ax.hist(df.baseline_residuals, label='baseline residuals', alpha = .6)\n",
    "ax.hist(df.residuals, label='model residuals', alpha = .6)\n",
    "ax.legend()"
   ]
  },
  {
   "cell_type": "code",
   "execution_count": 30,
   "metadata": {},
   "outputs": [
    {
     "data": {
      "text/plain": [
       "[<matplotlib.lines.Line2D at 0x7fbf58477b80>]"
      ]
     },
     "execution_count": 30,
     "metadata": {},
     "output_type": "execute_result"
    },
    {
     "data": {
      "image/png": "[encoded data removed]",
      "text/plain": [
       "<Figure size 936x504 with 1 Axes>"
      ]
     },
     "metadata": {
      "needs_background": "light"
     },
     "output_type": "display_data"
    }
   ],
   "source": [
    "fig, ax = plt.subplots(figsize=(13,7))\n",
    "ax.scatter(df.y, df.yhat, label='predicted')\n",
    "ax.set(title='Actual vs Predicted Value', ylabel=\"prediction\", xlabel='Actual')\n",
    "ax.plot(df.y, df.y, ls=':', c='gray')"
   ]
  },
  {
   "cell_type": "markdown",
   "metadata": {},
   "source": [
    "## \"Easy\" way to do this!"
   ]
  },
  {
   "cell_type": "code",
   "execution_count": null,
   "metadata": {},
   "outputs": [],
   "source": [
    "from sklearn.metrics import r2_score, mean_squared_error"
   ]
  },
  {
   "cell_type": "markdown",
   "metadata": {},
   "source": [
    "- to get rmse, take the square root of mean_squared_error\n",
    "- r2_score == explained_variance_score"
   ]
  },
  {
   "cell_type": "code",
   "execution_count": 31,
   "metadata": {},
   "outputs": [
    {
     "data": {
      "text/plain": [
       "0.9009863173170377"
      ]
     },
     "execution_count": 31,
     "metadata": {},
     "output_type": "execute_result"
    }
   ],
   "source": [
    "r2_score(df.y,df.yhat)"
   ]
  },
  {
   "cell_type": "code",
   "execution_count": 32,
   "metadata": {},
   "outputs": [
    {
     "data": {
      "text/plain": [
       "0.0"
      ]
     },
     "execution_count": 32,
     "metadata": {},
     "output_type": "execute_result"
    }
   ],
   "source": [
    "r2_score(df.y, df.yhat_baseline)"
   ]
  },
  {
   "cell_type": "code",
   "execution_count": 33,
   "metadata": {},
   "outputs": [
    {
     "data": {
      "text/plain": [
       "0.23398604227429"
      ]
     },
     "execution_count": 33,
     "metadata": {},
     "output_type": "execute_result"
    }
   ],
   "source": [
    "mean_squared_error(df.y, df.yhat)"
   ]
  },
  {
   "cell_type": "markdown",
   "metadata": {},
   "source": [
    "<hr style=\"border:2px solid black\"> </hr>"
   ]
  },
  {
   "cell_type": "markdown",
   "metadata": {},
   "source": [
    "# Feature Engineering"
   ]
  },
  {
   "cell_type": "markdown",
   "metadata": {},
   "source": [
    "- when dataframes have **a lot** of columns, we can eliminate the columns that are not significant\n"
   ]
  },
  {
   "cell_type": "markdown",
   "metadata": {},
   "source": [
    "### SelectKBest: \n",
    "- f_selector= SelecKBest(score_fun=f_regression, k=3) \n",
    "    - automatically chooses the top K features by running an F Test\n",
    "    <br>\n",
    "    \n",
    "    - select k=?? to determine how many features we use\n",
    "        - (ex): k=3; top 3 most predictive features used\n",
    "        \n",
    "        <br>\n",
    "        \n",
    "    - chooses the items that are most correlated and uses those depending on the K\n"
   ]
  },
  {
   "cell_type": "markdown",
   "metadata": {},
   "source": [
    "### Recursive Feature Elimination (RFE):\n",
    "\n",
    "- import: **from sklearn.feature_selection import RFE**\n",
    "\n",
    "<br>\n",
    "\n",
    "- creates multiple machine learning models\n",
    "\n",
    "<br>\n",
    "    \n",
    "- uses entire dataset then works backwards to eliminate features\n",
    "    - STEPS to take:\n",
    "        - lm = LinearRegression()\n",
    "        - rfe = RFE(estimator=lm, n_features_to_select=2)\n",
    "        - rfe.fit(X_train_scaled, y_train)\n",
    "        \n",
    "        <br>\n",
    "        \n",
    "- CANNOT use with: KNN   \n",
    "- CAN use with: Linear Regression or Decision Tree\n",
    "\n",
    "<br>  \n",
    "\n",
    "- **rfe.support_**: gives a mask showing which features are to 2 (in this case bc n_features_to_select=2)\n",
    "    \n",
    "    <br>\n",
    "- **rfe.ranking_**: ranks features by importants 1 - ###..."
   ]
  },
  {
   "cell_type": "code",
   "execution_count": null,
   "metadata": {},
   "outputs": [],
   "source": [
    "#pd.Series(dict(zip(X_train_scaled.columns, rfe.ranking_))).sort_values()"
   ]
  },
  {
   "cell_type": "code",
   "execution_count": null,
   "metadata": {},
   "outputs": [],
   "source": []
  }
 ],
 "metadata": {
  "kernelspec": {
   "display_name": "Python 3",
   "language": "python",
   "name": "python3"
  },
  "language_info": {
   "codemirror_mode": {
    "name": "ipython",
    "version": 3
   },
   "file_extension": ".py",
   "mimetype": "text/x-python",
   "name": "python",
   "nbconvert_exporter": "python",
   "pygments_lexer": "ipython3",
   "version": "3.8.5"
  }
 },
 "nbformat": 4,
 "nbformat_minor": 4
}
