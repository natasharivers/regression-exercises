{
 "cells": [
  {
   "cell_type": "markdown",
   "metadata": {},
   "source": [
    "# Scaling Exercises"
   ]
  },
  {
   "cell_type": "markdown",
   "metadata": {},
   "source": [
    "Do your work for these exercises in a jupyter notebook named scaling. Use the telco dataset you acquired and prepped in previous lesson. Once you are finished, you may wish to repeat the exercises on another dataset for additional practice.\n",
    "\n",
    "1. Apply the scalers we talked about in this lesson to your data and visualize the results for the unscaled and scaled distribution .\n",
    "<br>\n",
    "\n",
    "2. Apply the .inverse_transform method to your scaled data. Is the resulting dataset the exact same as the original data?\n",
    "<br>\n",
    "\n",
    "3. Read the documentation for sklearn's QuantileTransformer. Use normal for the output_distribution and apply this scaler to your data. Visualize the result of your data scaling.\n",
    "<br>\n",
    "\n",
    "4. Use the QuantileTransformer, but omit the output_distribution argument. Visualize your results. What do you notice?\n",
    "<br>\n",
    "\n",
    "5. Based on the work you've done, choose a scaling method for your dataset. Write a function within your prepare.py that accepts as input the train, validate, and test data splits, and returns the scaled versions of each. Be sure to only learn the parameters for scaling from your training data!"
   ]
  },
  {
   "cell_type": "code",
   "execution_count": 79,
   "metadata": {},
   "outputs": [],
   "source": [
    "#imports\n",
    "import numpy as np\n",
    "import pandas as pd\n",
    "from pydataset import data\n",
    "import matplotlib.pyplot as plt\n",
    "from sklearn.preprocessing import MinMaxScaler, RobustScaler, StandardScaler\n",
    "from sklearn.model_selection import train_test_split\n",
    "from sklearn.preprocessing import QuantileTransformer\n",
    "import wrangle"
   ]
  },
  {
   "cell_type": "code",
   "execution_count": 84,
   "metadata": {},
   "outputs": [],
   "source": [
    "import warnings\n",
    "warnings.filterwarnings(\"ignore\")"
   ]
  },
  {
   "cell_type": "code",
   "execution_count": 2,
   "metadata": {},
   "outputs": [],
   "source": [
    "df = wrangle.wrangle_telco()"
   ]
  },
  {
   "cell_type": "code",
   "execution_count": 3,
   "metadata": {},
   "outputs": [
    {
     "data": {
      "text/html": [
       "<div>\n",
       "<style scoped>\n",
       "    .dataframe tbody tr th:only-of-type {\n",
       "        vertical-align: middle;\n",
       "    }\n",
       "\n",
       "    .dataframe tbody tr th {\n",
       "        vertical-align: top;\n",
       "    }\n",
       "\n",
       "    .dataframe thead th {\n",
       "        text-align: right;\n",
       "    }\n",
       "</style>\n",
       "<table border=\"1\" class=\"dataframe\">\n",
       "  <thead>\n",
       "    <tr style=\"text-align: right;\">\n",
       "      <th></th>\n",
       "      <th>customer_id</th>\n",
       "      <th>monthly_charges</th>\n",
       "      <th>tenure</th>\n",
       "      <th>total_charges</th>\n",
       "    </tr>\n",
       "  </thead>\n",
       "  <tbody>\n",
       "    <tr>\n",
       "      <th>0</th>\n",
       "      <td>0013-SMEOE</td>\n",
       "      <td>109.70</td>\n",
       "      <td>71</td>\n",
       "      <td>7904.25</td>\n",
       "    </tr>\n",
       "    <tr>\n",
       "      <th>1</th>\n",
       "      <td>0014-BMAQU</td>\n",
       "      <td>84.65</td>\n",
       "      <td>63</td>\n",
       "      <td>5377.80</td>\n",
       "    </tr>\n",
       "    <tr>\n",
       "      <th>2</th>\n",
       "      <td>0016-QLJIS</td>\n",
       "      <td>90.45</td>\n",
       "      <td>65</td>\n",
       "      <td>5957.90</td>\n",
       "    </tr>\n",
       "    <tr>\n",
       "      <th>3</th>\n",
       "      <td>0017-DINOC</td>\n",
       "      <td>45.20</td>\n",
       "      <td>54</td>\n",
       "      <td>2460.55</td>\n",
       "    </tr>\n",
       "    <tr>\n",
       "      <th>4</th>\n",
       "      <td>0017-IUDMW</td>\n",
       "      <td>116.80</td>\n",
       "      <td>72</td>\n",
       "      <td>8456.75</td>\n",
       "    </tr>\n",
       "  </tbody>\n",
       "</table>\n",
       "</div>"
      ],
      "text/plain": [
       "  customer_id  monthly_charges  tenure  total_charges\n",
       "0  0013-SMEOE           109.70      71        7904.25\n",
       "1  0014-BMAQU            84.65      63        5377.80\n",
       "2  0016-QLJIS            90.45      65        5957.90\n",
       "3  0017-DINOC            45.20      54        2460.55\n",
       "4  0017-IUDMW           116.80      72        8456.75"
      ]
     },
     "execution_count": 3,
     "metadata": {},
     "output_type": "execute_result"
    }
   ],
   "source": [
    "df.head()"
   ]
  },
  {
   "cell_type": "code",
   "execution_count": 4,
   "metadata": {},
   "outputs": [
    {
     "name": "stdout",
     "output_type": "stream",
     "text": [
      "<class 'pandas.core.frame.DataFrame'>\n",
      "Int64Index: 1695 entries, 0 to 1694\n",
      "Data columns (total 4 columns):\n",
      " #   Column           Non-Null Count  Dtype  \n",
      "---  ------           --------------  -----  \n",
      " 0   customer_id      1695 non-null   object \n",
      " 1   monthly_charges  1695 non-null   float64\n",
      " 2   tenure           1695 non-null   int64  \n",
      " 3   total_charges    1695 non-null   float64\n",
      "dtypes: float64(2), int64(1), object(1)\n",
      "memory usage: 66.2+ KB\n"
     ]
    }
   ],
   "source": [
    "df.info()"
   ]
  },
  {
   "cell_type": "code",
   "execution_count": 5,
   "metadata": {},
   "outputs": [
    {
     "name": "stdout",
     "output_type": "stream",
     "text": [
      "train -> (949, 4)\n",
      "validate -> (407, 4)\n",
      "test -> (339, 4)\n"
     ]
    }
   ],
   "source": [
    "#split from wrange function\n",
    "train, validate, test = wrangle.split_data(df)"
   ]
  },
  {
   "cell_type": "markdown",
   "metadata": {},
   "source": [
    "### #1. Apply the scalers we talked about in this lesson to your data and visualize the results for the unscaled and scaled distribution."
   ]
  },
  {
   "cell_type": "code",
   "execution_count": 7,
   "metadata": {},
   "outputs": [],
   "source": [
    "#do it all in ONE step\n",
    "#apply MinMaxScaler, RobustScaler, StanderScaler on monthly_charges\n",
    "#train['minmax_monthly_charges'] = MinMaxScaler().fit_transform(train[['monthly_charges']])\n",
    "#train['robust_monthly_charges'] = RobustScaler().fit_transform(train[['monthly_charges']])\n",
    "#train['standard_monthly_charges'] = StandardScaler().fit_transform(train[['monthly_charges']])"
   ]
  },
  {
   "cell_type": "code",
   "execution_count": 13,
   "metadata": {},
   "outputs": [],
   "source": [
    "#apply MinMaxScaler, RobustScaler, StanderScaler on tenure\n",
    "#train['minmax_tenure'] = MinMaxScaler().fit_transform(train[['tenure']])\n",
    "#train['robust_tenure'] = RobustScaler().fit_transform(train[['tenure']])\n",
    "#train['standard_tenure'] = StandardScaler().fit_transform(train[['tenure']])"
   ]
  },
  {
   "cell_type": "code",
   "execution_count": 20,
   "metadata": {},
   "outputs": [],
   "source": [
    "#apply MinMaxScaler, RobustScaler, StanderScaler on total_charges\n",
    "#train['minmax_total_charges'] = MinMaxScaler().fit_transform(train[['total_charges']])\n",
    "##train['robust_total_charges'] = RobustScaler().fit_transform(train[['total_charges']])\n",
    "#train['standard_total_charges'] = StandardScaler().fit_transform(train[['total_charges']])"
   ]
  },
  {
   "cell_type": "markdown",
   "metadata": {},
   "source": [
    "#### MinMax Scaler on monthly_charges"
   ]
  },
  {
   "cell_type": "code",
   "execution_count": 6,
   "metadata": {},
   "outputs": [],
   "source": [
    "#min max scaler for monthly_charges\n",
    "#create\n",
    "scaler_minmax = MinMaxScaler()\n",
    "#fit\n",
    "scaler_minmax.fit(train[['monthly_charges']])\n",
    "#use\n",
    "train['minmax_monthly_charges'] = scaler_minmax.transform(train[['monthly_charges']])"
   ]
  },
  {
   "cell_type": "code",
   "execution_count": 8,
   "metadata": {
    "scrolled": false
   },
   "outputs": [
    {
     "data": {
      "text/plain": [
       "Text(0.5, 1.0, 'Scaled')"
      ]
     },
     "execution_count": 8,
     "metadata": {},
     "output_type": "execute_result"
    },
    {
     "data": {
      "image/png": "[encoded data removed]",
      "text/plain": [
       "<Figure size 936x432 with 2 Axes>"
      ]
     },
     "metadata": {
      "needs_background": "light"
     },
     "output_type": "display_data"
    }
   ],
   "source": [
    "#minmax for monthly_charges\n",
    "plt.figure(figsize=(13, 6))\n",
    "plt.subplot(121)\n",
    "plt.hist(train['monthly_charges'], bins=25, ec='black')\n",
    "plt.title('Original')\n",
    "plt.subplot(122)\n",
    "plt.hist(train['minmax_monthly_charges'], bins=25, ec='black')\n",
    "plt.title('Scaled')"
   ]
  },
  {
   "cell_type": "markdown",
   "metadata": {},
   "source": [
    "#### Robust Scaler on monthly_charges"
   ]
  },
  {
   "cell_type": "code",
   "execution_count": 9,
   "metadata": {},
   "outputs": [],
   "source": [
    "#robust scaler for monthly_charges\n",
    "#create\n",
    "scaler_robust = RobustScaler()\n",
    "#fit\n",
    "scaler_robust.fit(train[['monthly_charges']])\n",
    "#use\n",
    "train['robust_monthly_charges'] = scaler_robust.transform(train[['monthly_charges']])"
   ]
  },
  {
   "cell_type": "code",
   "execution_count": 10,
   "metadata": {
    "scrolled": false
   },
   "outputs": [
    {
     "data": {
      "text/plain": [
       "Text(0.5, 1.0, 'Scaled')"
      ]
     },
     "execution_count": 10,
     "metadata": {},
     "output_type": "execute_result"
    },
    {
     "data": {
      "image/png": "[encoded data removed]",
      "text/plain": [
       "<Figure size 936x432 with 2 Axes>"
      ]
     },
     "metadata": {
      "needs_background": "light"
     },
     "output_type": "display_data"
    }
   ],
   "source": [
    "#robust for monthly_charges\n",
    "plt.figure(figsize=(13, 6))\n",
    "plt.subplot(121)\n",
    "plt.hist(train['monthly_charges'], bins=25, ec='black')\n",
    "plt.title('Original')\n",
    "plt.subplot(122)\n",
    "plt.hist(train['robust_monthly_charges'], bins=25, ec='black')\n",
    "plt.title('Scaled')"
   ]
  },
  {
   "cell_type": "markdown",
   "metadata": {},
   "source": [
    "#### Standard Scaler on monthly_charges"
   ]
  },
  {
   "cell_type": "code",
   "execution_count": 11,
   "metadata": {},
   "outputs": [],
   "source": [
    "#standard scaler for monthly_charges\n",
    "#create\n",
    "scaler_standard = StandardScaler()\n",
    "#fit\n",
    "scaler_standard.fit(train[['monthly_charges']])\n",
    "#use\n",
    "train['standard_monthly_charges'] = scaler_standard.transform(train[['monthly_charges']])"
   ]
  },
  {
   "cell_type": "code",
   "execution_count": 12,
   "metadata": {
    "scrolled": false
   },
   "outputs": [
    {
     "data": {
      "text/plain": [
       "Text(0.5, 1.0, 'Scaled')"
      ]
     },
     "execution_count": 12,
     "metadata": {},
     "output_type": "execute_result"
    },
    {
     "data": {
      "image/png": "[encoded data removed]",
      "text/plain": [
       "<Figure size 936x432 with 2 Axes>"
      ]
     },
     "metadata": {
      "needs_background": "light"
     },
     "output_type": "display_data"
    }
   ],
   "source": [
    "#Standard for monthly_charges\n",
    "plt.figure(figsize=(13, 6))\n",
    "plt.subplot(121)\n",
    "plt.hist(train['monthly_charges'], bins=25, ec='black')\n",
    "plt.title('Original')\n",
    "plt.subplot(122)\n",
    "plt.hist(train['standard_monthly_charges'], bins=25, ec='black')\n",
    "plt.title('Scaled')"
   ]
  },
  {
   "cell_type": "markdown",
   "metadata": {},
   "source": [
    "________________________"
   ]
  },
  {
   "cell_type": "markdown",
   "metadata": {},
   "source": [
    "#### MinMax Scaler on tenure"
   ]
  },
  {
   "cell_type": "code",
   "execution_count": 14,
   "metadata": {},
   "outputs": [],
   "source": [
    "#minmax scaler for tenure\n",
    "#create\n",
    "scaler_minmax = MinMaxScaler()\n",
    "#fit\n",
    "scaler_minmax.fit(train[['tenure']])\n",
    "#use\n",
    "train['minmax_tenure'] = scaler_minmax.transform(train[['tenure']])"
   ]
  },
  {
   "cell_type": "code",
   "execution_count": 15,
   "metadata": {
    "scrolled": false
   },
   "outputs": [
    {
     "data": {
      "text/plain": [
       "Text(0.5, 1.0, 'Scaled')"
      ]
     },
     "execution_count": 15,
     "metadata": {},
     "output_type": "execute_result"
    },
    {
     "data": {
      "image/png": "[encoded data removed]",
      "text/plain": [
       "<Figure size 936x432 with 2 Axes>"
      ]
     },
     "metadata": {
      "needs_background": "light"
     },
     "output_type": "display_data"
    }
   ],
   "source": [
    "#minmax for tenure\n",
    "plt.figure(figsize=(13, 6))\n",
    "plt.subplot(121)\n",
    "plt.hist(train['tenure'], bins=25, ec='black')\n",
    "plt.title('Original')\n",
    "plt.subplot(122)\n",
    "plt.hist(train['minmax_tenure'], bins=25, ec='black')\n",
    "plt.title('Scaled')"
   ]
  },
  {
   "cell_type": "markdown",
   "metadata": {},
   "source": [
    "______________________"
   ]
  },
  {
   "cell_type": "markdown",
   "metadata": {},
   "source": [
    "#### Robust Scaler on tenure"
   ]
  },
  {
   "cell_type": "code",
   "execution_count": 16,
   "metadata": {},
   "outputs": [],
   "source": [
    "#robust scaler for tenure\n",
    "#create\n",
    "scaler_robust = RobustScaler()\n",
    "#fit\n",
    "scaler_robust.fit(train[['tenure']])\n",
    "#use\n",
    "train['robust_tenure'] = scaler_robust.transform(train[['tenure']])"
   ]
  },
  {
   "cell_type": "code",
   "execution_count": 17,
   "metadata": {
    "scrolled": false
   },
   "outputs": [
    {
     "data": {
      "text/plain": [
       "Text(0.5, 1.0, 'Scaled')"
      ]
     },
     "execution_count": 17,
     "metadata": {},
     "output_type": "execute_result"
    },
    {
     "data": {
      "image/png": "[encoded data removed]",
      "text/plain": [
       "<Figure size 936x432 with 2 Axes>"
      ]
     },
     "metadata": {
      "needs_background": "light"
     },
     "output_type": "display_data"
    }
   ],
   "source": [
    "#robust for tenure\n",
    "plt.figure(figsize=(13, 6))\n",
    "plt.subplot(121)\n",
    "plt.hist(train['tenure'], bins=25, ec='black')\n",
    "plt.title('Original')\n",
    "plt.subplot(122)\n",
    "plt.hist(train['robust_tenure'], bins=25, ec='black')\n",
    "plt.title('Scaled')"
   ]
  },
  {
   "cell_type": "markdown",
   "metadata": {},
   "source": [
    "__________________________________________________"
   ]
  },
  {
   "cell_type": "markdown",
   "metadata": {},
   "source": [
    "#### Standard Scaler on tenure"
   ]
  },
  {
   "cell_type": "code",
   "execution_count": 18,
   "metadata": {},
   "outputs": [],
   "source": [
    "#standard scaler for tenure\n",
    "#create\n",
    "scaler_standard = StandardScaler()\n",
    "#fit\n",
    "scaler_standard.fit(train[['tenure']])\n",
    "#use\n",
    "train['standard_tenure'] = scaler_standard.transform(train[['tenure']])"
   ]
  },
  {
   "cell_type": "code",
   "execution_count": 19,
   "metadata": {},
   "outputs": [
    {
     "data": {
      "text/plain": [
       "Text(0.5, 1.0, 'Scaled')"
      ]
     },
     "execution_count": 19,
     "metadata": {},
     "output_type": "execute_result"
    },
    {
     "data": {
      "image/png": "[encoded data removed]",
      "text/plain": [
       "<Figure size 936x432 with 2 Axes>"
      ]
     },
     "metadata": {
      "needs_background": "light"
     },
     "output_type": "display_data"
    }
   ],
   "source": [
    "#Standard for tenure\n",
    "plt.figure(figsize=(13, 6))\n",
    "plt.subplot(121)\n",
    "plt.hist(train['tenure'], bins=25, ec='black')\n",
    "plt.title('Original')\n",
    "plt.subplot(122)\n",
    "plt.hist(train['standard_tenure'], bins=25, ec='black')\n",
    "plt.title('Scaled')"
   ]
  },
  {
   "cell_type": "markdown",
   "metadata": {},
   "source": [
    "_______________________________"
   ]
  },
  {
   "cell_type": "markdown",
   "metadata": {},
   "source": [
    "#### MinMax Scaler on total_charges"
   ]
  },
  {
   "cell_type": "code",
   "execution_count": 21,
   "metadata": {},
   "outputs": [],
   "source": [
    "#minmax scaler for total_charges\n",
    "#create\n",
    "scaler_minmax = MinMaxScaler()\n",
    "#fit\n",
    "scaler_minmax.fit(train[['total_charges']])\n",
    "#use\n",
    "train['minmax_total_charges'] = scaler_minmax.transform(train[['total_charges']])"
   ]
  },
  {
   "cell_type": "code",
   "execution_count": 22,
   "metadata": {},
   "outputs": [
    {
     "data": {
      "text/plain": [
       "Text(0.5, 1.0, 'Scaled')"
      ]
     },
     "execution_count": 22,
     "metadata": {},
     "output_type": "execute_result"
    },
    {
     "data": {
      "image/png": "[encoded data removed]",
      "text/plain": [
       "<Figure size 936x432 with 2 Axes>"
      ]
     },
     "metadata": {
      "needs_background": "light"
     },
     "output_type": "display_data"
    }
   ],
   "source": [
    "#minmax for total_charges\n",
    "plt.figure(figsize=(13, 6))\n",
    "plt.subplot(121)\n",
    "plt.hist(train['total_charges'], bins=25, ec='black')\n",
    "plt.title('Original')\n",
    "plt.subplot(122)\n",
    "plt.hist(train['minmax_total_charges'], bins=25, ec='black')\n",
    "plt.title('Scaled')"
   ]
  },
  {
   "cell_type": "markdown",
   "metadata": {},
   "source": [
    "_______________________"
   ]
  },
  {
   "cell_type": "markdown",
   "metadata": {},
   "source": [
    "#### Robust Scaler on total_charges"
   ]
  },
  {
   "cell_type": "code",
   "execution_count": 42,
   "metadata": {},
   "outputs": [],
   "source": [
    "#robust scaler for total_charges\n",
    "#create\n",
    "scaler_robust = RobustScaler()\n",
    "#fit\n",
    "scaler_robust.fit(train[['total_charges']])\n",
    "#use\n",
    "train['robust_total_charges'] = scaler_robust.transform(train[['total_charges']])"
   ]
  },
  {
   "cell_type": "code",
   "execution_count": 24,
   "metadata": {},
   "outputs": [
    {
     "data": {
      "text/plain": [
       "Text(0.5, 1.0, 'Scaled')"
      ]
     },
     "execution_count": 24,
     "metadata": {},
     "output_type": "execute_result"
    },
    {
     "data": {
      "image/png": "[encoded data removed]",
      "text/plain": [
       "<Figure size 936x432 with 2 Axes>"
      ]
     },
     "metadata": {
      "needs_background": "light"
     },
     "output_type": "display_data"
    }
   ],
   "source": [
    "#robust for total_charges\n",
    "plt.figure(figsize=(13, 6))\n",
    "plt.subplot(121)\n",
    "plt.hist(train['total_charges'], bins=25, ec='black')\n",
    "plt.title('Original')\n",
    "plt.subplot(122)\n",
    "plt.hist(train['robust_total_charges'], bins=25, ec='black')\n",
    "plt.title('Scaled')"
   ]
  },
  {
   "cell_type": "markdown",
   "metadata": {},
   "source": [
    "_______"
   ]
  },
  {
   "cell_type": "markdown",
   "metadata": {},
   "source": [
    "#### Standard Scaler on total_charges"
   ]
  },
  {
   "cell_type": "code",
   "execution_count": 25,
   "metadata": {},
   "outputs": [],
   "source": [
    "#standard scaler for total_charges\n",
    "#create\n",
    "scaler_standard = StandardScaler()\n",
    "#fit\n",
    "scaler_standard.fit(train[['total_charges']])\n",
    "#use\n",
    "train['standard_total_charges'] = scaler_standard.transform(train[['total_charges']])"
   ]
  },
  {
   "cell_type": "code",
   "execution_count": 26,
   "metadata": {},
   "outputs": [
    {
     "data": {
      "text/plain": [
       "Text(0.5, 1.0, 'Scaled')"
      ]
     },
     "execution_count": 26,
     "metadata": {},
     "output_type": "execute_result"
    },
    {
     "data": {
      "image/png": "[encoded data removed]",
      "text/plain": [
       "<Figure size 936x432 with 2 Axes>"
      ]
     },
     "metadata": {
      "needs_background": "light"
     },
     "output_type": "display_data"
    }
   ],
   "source": [
    "#Standard for total_charges\n",
    "plt.figure(figsize=(13, 6))\n",
    "plt.subplot(121)\n",
    "plt.hist(train['total_charges'], bins=25, ec='black')\n",
    "plt.title('Original')\n",
    "plt.subplot(122)\n",
    "plt.hist(train['standard_total_charges'], bins=25, ec='black')\n",
    "plt.title('Scaled')"
   ]
  },
  {
   "cell_type": "markdown",
   "metadata": {},
   "source": [
    "<hr style=\"border:2px solid black\"> </hr>"
   ]
  },
  {
   "cell_type": "markdown",
   "metadata": {},
   "source": [
    "### #2. Apply the .inverse_transform method to your scaled data. Is the resulting dataset the exact same as the original data?"
   ]
  },
  {
   "cell_type": "markdown",
   "metadata": {},
   "source": [
    "#### Inverse MinMax Scaler on monthly_charges"
   ]
  },
  {
   "cell_type": "code",
   "execution_count": 27,
   "metadata": {},
   "outputs": [
    {
     "data": {
      "text/plain": [
       "MinMaxScaler()"
      ]
     },
     "execution_count": 27,
     "metadata": {},
     "output_type": "execute_result"
    }
   ],
   "source": [
    "#Answer: it is exactly the same\n",
    "scaler_minmax.fit(train[['monthly_charges']])"
   ]
  },
  {
   "cell_type": "code",
   "execution_count": 28,
   "metadata": {},
   "outputs": [],
   "source": [
    "#use\n",
    "train['mm_mc_inverse']= scaler_minmax.inverse_transform(train[['minmax_monthly_charges']])"
   ]
  },
  {
   "cell_type": "code",
   "execution_count": 29,
   "metadata": {},
   "outputs": [
    {
     "data": {
      "text/html": [
       "<div>\n",
       "<style scoped>\n",
       "    .dataframe tbody tr th:only-of-type {\n",
       "        vertical-align: middle;\n",
       "    }\n",
       "\n",
       "    .dataframe tbody tr th {\n",
       "        vertical-align: top;\n",
       "    }\n",
       "\n",
       "    .dataframe thead th {\n",
       "        text-align: right;\n",
       "    }\n",
       "</style>\n",
       "<table border=\"1\" class=\"dataframe\">\n",
       "  <thead>\n",
       "    <tr style=\"text-align: right;\">\n",
       "      <th></th>\n",
       "      <th>monthly_charges</th>\n",
       "      <th>minmax_monthly_charges</th>\n",
       "      <th>mm_mc_inverse</th>\n",
       "    </tr>\n",
       "  </thead>\n",
       "  <tbody>\n",
       "    <tr>\n",
       "      <th>1256</th>\n",
       "      <td>73.80</td>\n",
       "      <td>0.552618</td>\n",
       "      <td>73.80</td>\n",
       "    </tr>\n",
       "    <tr>\n",
       "      <th>225</th>\n",
       "      <td>69.05</td>\n",
       "      <td>0.505237</td>\n",
       "      <td>69.05</td>\n",
       "    </tr>\n",
       "    <tr>\n",
       "      <th>662</th>\n",
       "      <td>24.90</td>\n",
       "      <td>0.064838</td>\n",
       "      <td>24.90</td>\n",
       "    </tr>\n",
       "    <tr>\n",
       "      <th>628</th>\n",
       "      <td>19.55</td>\n",
       "      <td>0.011471</td>\n",
       "      <td>19.55</td>\n",
       "    </tr>\n",
       "    <tr>\n",
       "      <th>824</th>\n",
       "      <td>24.45</td>\n",
       "      <td>0.060349</td>\n",
       "      <td>24.45</td>\n",
       "    </tr>\n",
       "  </tbody>\n",
       "</table>\n",
       "</div>"
      ],
      "text/plain": [
       "      monthly_charges  minmax_monthly_charges  mm_mc_inverse\n",
       "1256            73.80                0.552618          73.80\n",
       "225             69.05                0.505237          69.05\n",
       "662             24.90                0.064838          24.90\n",
       "628             19.55                0.011471          19.55\n",
       "824             24.45                0.060349          24.45"
      ]
     },
     "execution_count": 29,
     "metadata": {},
     "output_type": "execute_result"
    }
   ],
   "source": [
    "#compare all three new columns\n",
    "train[['monthly_charges','minmax_monthly_charges', 'mm_mc_inverse']].head()"
   ]
  },
  {
   "cell_type": "code",
   "execution_count": 31,
   "metadata": {},
   "outputs": [
    {
     "data": {
      "text/plain": [
       "Text(0.5, 1.0, 'Inverse Scaled')"
      ]
     },
     "execution_count": 31,
     "metadata": {},
     "output_type": "execute_result"
    },
    {
     "data": {
      "image/png": "[encoded data removed]",
      "text/plain": [
       "<Figure size 936x432 with 3 Axes>"
      ]
     },
     "metadata": {
      "needs_background": "light"
     },
     "output_type": "display_data"
    }
   ],
   "source": [
    "#minmax inverse for monthly_charges\n",
    "plt.figure(figsize=(13, 6))\n",
    "plt.subplot(131)\n",
    "plt.hist(train['monthly_charges'], bins=25, ec='black')\n",
    "plt.title('Original')\n",
    "plt.subplot(132)\n",
    "plt.hist(train['minmax_monthly_charges'], bins=25, ec='red')\n",
    "plt.title('Scaled')\n",
    "plt.subplot(133)\n",
    "plt.hist(train['mm_mc_inverse'], bins=25, ec='black')\n",
    "plt.title('Inverse Scaled')"
   ]
  },
  {
   "cell_type": "markdown",
   "metadata": {},
   "source": [
    "_______________"
   ]
  },
  {
   "cell_type": "markdown",
   "metadata": {},
   "source": [
    "#### Inverse Robust Scaler on monthly_charges"
   ]
  },
  {
   "cell_type": "code",
   "execution_count": 39,
   "metadata": {},
   "outputs": [
    {
     "data": {
      "text/plain": [
       "RobustScaler()"
      ]
     },
     "execution_count": 39,
     "metadata": {},
     "output_type": "execute_result"
    }
   ],
   "source": [
    "#Answer: it is exactly the same\n",
    "scaler_robust.fit(train[['monthly_charges']])"
   ]
  },
  {
   "cell_type": "code",
   "execution_count": 40,
   "metadata": {},
   "outputs": [],
   "source": [
    "#use\n",
    "train['robust_mc_inverse']= scaler_robust.inverse_transform(train[['robust_monthly_charges']])\n"
   ]
  },
  {
   "cell_type": "code",
   "execution_count": 41,
   "metadata": {},
   "outputs": [
    {
     "data": {
      "text/plain": [
       "Text(0.5, 1.0, 'Inverse Scaled')"
      ]
     },
     "execution_count": 41,
     "metadata": {},
     "output_type": "execute_result"
    },
    {
     "data": {
      "image/png": "[encoded data removed]",
      "text/plain": [
       "<Figure size 936x432 with 3 Axes>"
      ]
     },
     "metadata": {
      "needs_background": "light"
     },
     "output_type": "display_data"
    }
   ],
   "source": [
    "#robust inverse for monthly_charges\n",
    "plt.figure(figsize=(13, 6))\n",
    "plt.subplot(131)\n",
    "plt.hist(train['monthly_charges'], bins=25, ec='black')\n",
    "plt.title('Original')\n",
    "plt.subplot(132)\n",
    "plt.hist(train['robust_monthly_charges'], bins=25, ec='red')\n",
    "plt.title('Scaled')\n",
    "plt.subplot(133)\n",
    "plt.hist(train['robust_mc_inverse'], bins=25, ec='black')\n",
    "plt.title('Inverse Scaled')"
   ]
  },
  {
   "cell_type": "markdown",
   "metadata": {},
   "source": [
    "__________________________"
   ]
  },
  {
   "cell_type": "markdown",
   "metadata": {},
   "source": [
    "#### Inverse Standard Scaler on monthly_charges"
   ]
  },
  {
   "cell_type": "code",
   "execution_count": 43,
   "metadata": {},
   "outputs": [
    {
     "data": {
      "text/plain": [
       "StandardScaler()"
      ]
     },
     "execution_count": 43,
     "metadata": {},
     "output_type": "execute_result"
    }
   ],
   "source": [
    "#Answer: it is exactly the same\n",
    "scaler_standard.fit(train[['monthly_charges']])"
   ]
  },
  {
   "cell_type": "code",
   "execution_count": 44,
   "metadata": {},
   "outputs": [],
   "source": [
    "#use\n",
    "train['standard_mc_inverse']= scaler_standard.inverse_transform(train[['standard_monthly_charges']])\n"
   ]
  },
  {
   "cell_type": "code",
   "execution_count": 45,
   "metadata": {},
   "outputs": [
    {
     "data": {
      "text/plain": [
       "Text(0.5, 1.0, 'Inverse Scaled')"
      ]
     },
     "execution_count": 45,
     "metadata": {},
     "output_type": "execute_result"
    },
    {
     "data": {
      "image/png": "[encoded data removed]",
      "text/plain": [
       "<Figure size 936x432 with 3 Axes>"
      ]
     },
     "metadata": {
      "needs_background": "light"
     },
     "output_type": "display_data"
    }
   ],
   "source": [
    "#robust inverse for monthly_charges\n",
    "plt.figure(figsize=(13, 6))\n",
    "plt.subplot(131)\n",
    "plt.hist(train['monthly_charges'], bins=25, ec='black')\n",
    "plt.title('Original')\n",
    "plt.subplot(132)\n",
    "plt.hist(train['robust_monthly_charges'], bins=25, ec='red')\n",
    "plt.title('Scaled')\n",
    "plt.subplot(133)\n",
    "plt.hist(train['robust_mc_inverse'], bins=25, ec='black')\n",
    "plt.title('Inverse Scaled')"
   ]
  },
  {
   "cell_type": "markdown",
   "metadata": {},
   "source": [
    "_______________________________"
   ]
  },
  {
   "cell_type": "markdown",
   "metadata": {},
   "source": [
    "#### Inverse MinMax Scaler on tenure"
   ]
  },
  {
   "cell_type": "code",
   "execution_count": 53,
   "metadata": {},
   "outputs": [
    {
     "data": {
      "text/plain": [
       "MinMaxScaler()"
      ]
     },
     "execution_count": 53,
     "metadata": {},
     "output_type": "execute_result"
    }
   ],
   "source": [
    "#Answer: it is exactly the same\n",
    "scaler_minmax.fit(train[['tenure']])"
   ]
  },
  {
   "cell_type": "code",
   "execution_count": 58,
   "metadata": {},
   "outputs": [],
   "source": [
    "#use\n",
    "train['minmax_tenure_inverse']= scaler_minmax.inverse_transform(train[['minmax_tenure']])\n"
   ]
  },
  {
   "cell_type": "code",
   "execution_count": 59,
   "metadata": {},
   "outputs": [
    {
     "data": {
      "text/plain": [
       "Text(0.5, 1.0, 'Inverse Scaled')"
      ]
     },
     "execution_count": 59,
     "metadata": {},
     "output_type": "execute_result"
    },
    {
     "data": {
      "image/png": "[encoded data removed]",
      "text/plain": [
       "<Figure size 936x432 with 3 Axes>"
      ]
     },
     "metadata": {
      "needs_background": "light"
     },
     "output_type": "display_data"
    }
   ],
   "source": [
    "#robust inverse for monthly_charges\n",
    "plt.figure(figsize=(13, 6))\n",
    "plt.subplot(131)\n",
    "plt.hist(train['tenure'], bins=25, ec='black')\n",
    "plt.title('Original')\n",
    "plt.subplot(132)\n",
    "plt.hist(train['minmax_tenure'], bins=25, ec='red')\n",
    "plt.title('Scaled')\n",
    "plt.subplot(133)\n",
    "plt.hist(train['minmax_tenure_inverse'], bins=25, ec='black')\n",
    "plt.title('Inverse Scaled')"
   ]
  },
  {
   "cell_type": "markdown",
   "metadata": {},
   "source": [
    "#### Inverse Robust Scaler on tenure"
   ]
  },
  {
   "cell_type": "code",
   "execution_count": 60,
   "metadata": {},
   "outputs": [
    {
     "data": {
      "text/plain": [
       "RobustScaler()"
      ]
     },
     "execution_count": 60,
     "metadata": {},
     "output_type": "execute_result"
    }
   ],
   "source": [
    "#Answer: it is exactly the same\n",
    "scaler_robust.fit(train[['tenure']])"
   ]
  },
  {
   "cell_type": "code",
   "execution_count": 61,
   "metadata": {},
   "outputs": [],
   "source": [
    "#use\n",
    "train['robust_tenure_inverse']= scaler_robust.inverse_transform(train[['robust_tenure']])"
   ]
  },
  {
   "cell_type": "code",
   "execution_count": 62,
   "metadata": {},
   "outputs": [
    {
     "data": {
      "text/plain": [
       "Text(0.5, 1.0, 'Inverse Scaled')"
      ]
     },
     "execution_count": 62,
     "metadata": {},
     "output_type": "execute_result"
    },
    {
     "data": {
      "image/png": "[encoded data removed]",
      "text/plain": [
       "<Figure size 936x432 with 3 Axes>"
      ]
     },
     "metadata": {
      "needs_background": "light"
     },
     "output_type": "display_data"
    }
   ],
   "source": [
    "#robust inverse for tenure\n",
    "plt.figure(figsize=(13, 6))\n",
    "plt.subplot(131)\n",
    "plt.hist(train['tenure'], bins=25, ec='black')\n",
    "plt.title('Original')\n",
    "plt.subplot(132)\n",
    "plt.hist(train['robust_tenure'], bins=25, ec='red')\n",
    "plt.title('Scaled')\n",
    "plt.subplot(133)\n",
    "plt.hist(train['robust_tenure_inverse'], bins=25, ec='black')\n",
    "plt.title('Inverse Scaled')"
   ]
  },
  {
   "cell_type": "markdown",
   "metadata": {},
   "source": [
    "___________________________"
   ]
  },
  {
   "cell_type": "markdown",
   "metadata": {},
   "source": [
    "#### Inverse Standard Scaler on tenure"
   ]
  },
  {
   "cell_type": "code",
   "execution_count": 63,
   "metadata": {},
   "outputs": [
    {
     "data": {
      "text/plain": [
       "StandardScaler()"
      ]
     },
     "execution_count": 63,
     "metadata": {},
     "output_type": "execute_result"
    }
   ],
   "source": [
    "#Answer: it is exactly the same\n",
    "scaler_standard.fit(train[['tenure']])"
   ]
  },
  {
   "cell_type": "code",
   "execution_count": 64,
   "metadata": {},
   "outputs": [],
   "source": [
    "#use\n",
    "train['standard_tenure_inverse']= scaler_standard.inverse_transform(train[['standard_tenure']])\n"
   ]
  },
  {
   "cell_type": "code",
   "execution_count": 65,
   "metadata": {},
   "outputs": [
    {
     "data": {
      "text/plain": [
       "Text(0.5, 1.0, 'Inverse Scaled')"
      ]
     },
     "execution_count": 65,
     "metadata": {},
     "output_type": "execute_result"
    },
    {
     "data": {
      "image/png": "[encoded data removed]",
      "text/plain": [
       "<Figure size 936x432 with 3 Axes>"
      ]
     },
     "metadata": {
      "needs_background": "light"
     },
     "output_type": "display_data"
    }
   ],
   "source": [
    "#robust inverse for tenure\n",
    "plt.figure(figsize=(13, 6))\n",
    "plt.subplot(131)\n",
    "plt.hist(train['tenure'], bins=25, ec='black')\n",
    "plt.title('Original')\n",
    "plt.subplot(132)\n",
    "plt.hist(train['robust_tenure'], bins=25, ec='red')\n",
    "plt.title('Scaled')\n",
    "plt.subplot(133)\n",
    "plt.hist(train['robust_tenure_inverse'], bins=25, ec='black')\n",
    "plt.title('Inverse Scaled')"
   ]
  },
  {
   "cell_type": "markdown",
   "metadata": {},
   "source": [
    "____________"
   ]
  },
  {
   "cell_type": "markdown",
   "metadata": {},
   "source": [
    "#### Inverse MinMax Scaler on total_charges"
   ]
  },
  {
   "cell_type": "code",
   "execution_count": 66,
   "metadata": {},
   "outputs": [
    {
     "data": {
      "text/plain": [
       "MinMaxScaler()"
      ]
     },
     "execution_count": 66,
     "metadata": {},
     "output_type": "execute_result"
    }
   ],
   "source": [
    "#Answer: it is exactly the same\n",
    "scaler_minmax.fit(train[['total_charges']])"
   ]
  },
  {
   "cell_type": "code",
   "execution_count": 67,
   "metadata": {},
   "outputs": [],
   "source": [
    "#use\n",
    "train['minmax_tc_inverse']= scaler_minmax.inverse_transform(train[['minmax_total_charges']])"
   ]
  },
  {
   "cell_type": "code",
   "execution_count": 69,
   "metadata": {},
   "outputs": [
    {
     "data": {
      "text/plain": [
       "Text(0.5, 1.0, 'Inverse Scaled')"
      ]
     },
     "execution_count": 69,
     "metadata": {},
     "output_type": "execute_result"
    },
    {
     "data": {
      "image/png": "[encoded data removed]",
      "text/plain": [
       "<Figure size 936x432 with 3 Axes>"
      ]
     },
     "metadata": {
      "needs_background": "light"
     },
     "output_type": "display_data"
    }
   ],
   "source": [
    "#robust inverse for monthly_charges\n",
    "plt.figure(figsize=(13, 6))\n",
    "plt.subplot(131)\n",
    "plt.hist(train['total_charges'], bins=25, ec='black')\n",
    "plt.title('Original')\n",
    "plt.subplot(132)\n",
    "plt.hist(train['minmax_total_charges'], bins=25, ec='red')\n",
    "plt.title('Scaled')\n",
    "plt.subplot(133)\n",
    "plt.hist(train['minmax_tc_inverse'], bins=25, ec='black')\n",
    "plt.title('Inverse Scaled')"
   ]
  },
  {
   "cell_type": "markdown",
   "metadata": {},
   "source": [
    "________________________"
   ]
  },
  {
   "cell_type": "markdown",
   "metadata": {},
   "source": [
    "#### Inverse Robust Scaler on total_charges"
   ]
  },
  {
   "cell_type": "code",
   "execution_count": 70,
   "metadata": {},
   "outputs": [
    {
     "data": {
      "text/plain": [
       "RobustScaler()"
      ]
     },
     "execution_count": 70,
     "metadata": {},
     "output_type": "execute_result"
    }
   ],
   "source": [
    "#Answer: it is exactly the same\n",
    "scaler_robust.fit(train[['total_charges']])"
   ]
  },
  {
   "cell_type": "code",
   "execution_count": 71,
   "metadata": {},
   "outputs": [],
   "source": [
    "#use\n",
    "train['robust_tc_inverse']= scaler_robust.inverse_transform(train[['robust_total_charges']])"
   ]
  },
  {
   "cell_type": "code",
   "execution_count": 72,
   "metadata": {},
   "outputs": [
    {
     "data": {
      "text/plain": [
       "Text(0.5, 1.0, 'Inverse Scaled')"
      ]
     },
     "execution_count": 72,
     "metadata": {},
     "output_type": "execute_result"
    },
    {
     "data": {
      "image/png": "[encoded data removed]",
      "text/plain": [
       "<Figure size 936x432 with 3 Axes>"
      ]
     },
     "metadata": {
      "needs_background": "light"
     },
     "output_type": "display_data"
    }
   ],
   "source": [
    "#robust inverse for monthly_charges\n",
    "plt.figure(figsize=(13, 6))\n",
    "plt.subplot(131)\n",
    "plt.hist(train['total_charges'], bins=25, ec='black')\n",
    "plt.title('Original')\n",
    "plt.subplot(132)\n",
    "plt.hist(train['robust_total_charges'], bins=25, ec='red')\n",
    "plt.title('Scaled')\n",
    "plt.subplot(133)\n",
    "plt.hist(train['robust_tc_inverse'], bins=25, ec='black')\n",
    "plt.title('Inverse Scaled')"
   ]
  },
  {
   "cell_type": "markdown",
   "metadata": {},
   "source": [
    "#### Inverse Standard Scaler on total_charges"
   ]
  },
  {
   "cell_type": "code",
   "execution_count": 73,
   "metadata": {},
   "outputs": [
    {
     "data": {
      "text/plain": [
       "StandardScaler()"
      ]
     },
     "execution_count": 73,
     "metadata": {},
     "output_type": "execute_result"
    }
   ],
   "source": [
    "#Answer: it is exactly the same\n",
    "scaler_standard.fit(train[['total_charges']])"
   ]
  },
  {
   "cell_type": "code",
   "execution_count": 74,
   "metadata": {},
   "outputs": [],
   "source": [
    "#use\n",
    "train['standard_tc_inverse']= scaler_standard.inverse_transform(train[['standard_total_charges']])"
   ]
  },
  {
   "cell_type": "code",
   "execution_count": 75,
   "metadata": {},
   "outputs": [
    {
     "data": {
      "text/plain": [
       "Text(0.5, 1.0, 'Inverse Scaled')"
      ]
     },
     "execution_count": 75,
     "metadata": {},
     "output_type": "execute_result"
    },
    {
     "data": {
      "image/png": "[encoded data removed]",
      "text/plain": [
       "<Figure size 936x432 with 3 Axes>"
      ]
     },
     "metadata": {
      "needs_background": "light"
     },
     "output_type": "display_data"
    }
   ],
   "source": [
    "#robust inverse for monthly_charges\n",
    "plt.figure(figsize=(13, 6))\n",
    "plt.subplot(131)\n",
    "plt.hist(train['total_charges'], bins=25, ec='black')\n",
    "plt.title('Original')\n",
    "plt.subplot(132)\n",
    "plt.hist(train['standard_total_charges'], bins=25, ec='red')\n",
    "plt.title('Scaled')\n",
    "plt.subplot(133)\n",
    "plt.hist(train['standard_tc_inverse'], bins=25, ec='black')\n",
    "plt.title('Inverse Scaled')"
   ]
  },
  {
   "cell_type": "code",
   "execution_count": 77,
   "metadata": {},
   "outputs": [
    {
     "data": {
      "text/html": [
       "<div>\n",
       "<style scoped>\n",
       "    .dataframe tbody tr th:only-of-type {\n",
       "        vertical-align: middle;\n",
       "    }\n",
       "\n",
       "    .dataframe tbody tr th {\n",
       "        vertical-align: top;\n",
       "    }\n",
       "\n",
       "    .dataframe thead th {\n",
       "        text-align: right;\n",
       "    }\n",
       "</style>\n",
       "<table border=\"1\" class=\"dataframe\">\n",
       "  <thead>\n",
       "    <tr style=\"text-align: right;\">\n",
       "      <th></th>\n",
       "      <th>1256</th>\n",
       "      <th>225</th>\n",
       "      <th>662</th>\n",
       "      <th>628</th>\n",
       "      <th>824</th>\n",
       "    </tr>\n",
       "  </thead>\n",
       "  <tbody>\n",
       "    <tr>\n",
       "      <th>customer_id</th>\n",
       "      <td>7501-IWUNG</td>\n",
       "      <td>1303-SRDOK</td>\n",
       "      <td>3967-VQOGC</td>\n",
       "      <td>3777-XROBG</td>\n",
       "      <td>5075-JSDKI</td>\n",
       "    </tr>\n",
       "    <tr>\n",
       "      <th>monthly_charges</th>\n",
       "      <td>73.8</td>\n",
       "      <td>69.05</td>\n",
       "      <td>24.9</td>\n",
       "      <td>19.55</td>\n",
       "      <td>24.45</td>\n",
       "    </tr>\n",
       "    <tr>\n",
       "      <th>tenure</th>\n",
       "      <td>61</td>\n",
       "      <td>55</td>\n",
       "      <td>67</td>\n",
       "      <td>58</td>\n",
       "      <td>59</td>\n",
       "    </tr>\n",
       "    <tr>\n",
       "      <th>total_charges</th>\n",
       "      <td>4616.05</td>\n",
       "      <td>3842.6</td>\n",
       "      <td>1680.25</td>\n",
       "      <td>1079.65</td>\n",
       "      <td>1493.1</td>\n",
       "    </tr>\n",
       "    <tr>\n",
       "      <th>minmax_monthly_charges</th>\n",
       "      <td>0.552618</td>\n",
       "      <td>0.505237</td>\n",
       "      <td>0.0648379</td>\n",
       "      <td>0.0114713</td>\n",
       "      <td>0.0603491</td>\n",
       "    </tr>\n",
       "    <tr>\n",
       "      <th>robust_monthly_charges</th>\n",
       "      <td>0.134915</td>\n",
       "      <td>0.0644922</td>\n",
       "      <td>-0.590067</td>\n",
       "      <td>-0.669385</td>\n",
       "      <td>-0.596738</td>\n",
       "    </tr>\n",
       "    <tr>\n",
       "      <th>standard_monthly_charges</th>\n",
       "      <td>0.361757</td>\n",
       "      <td>0.22511</td>\n",
       "      <td>-1.04499</td>\n",
       "      <td>-1.19889</td>\n",
       "      <td>-1.05793</td>\n",
       "    </tr>\n",
       "    <tr>\n",
       "      <th>minmax_tenure</th>\n",
       "      <td>0.847222</td>\n",
       "      <td>0.763889</td>\n",
       "      <td>0.930556</td>\n",
       "      <td>0.805556</td>\n",
       "      <td>0.819444</td>\n",
       "    </tr>\n",
       "    <tr>\n",
       "      <th>robust_tenure</th>\n",
       "      <td>-0.125</td>\n",
       "      <td>-0.375</td>\n",
       "      <td>0.125</td>\n",
       "      <td>-0.25</td>\n",
       "      <td>-0.208333</td>\n",
       "    </tr>\n",
       "    <tr>\n",
       "      <th>standard_tenure</th>\n",
       "      <td>0.245562</td>\n",
       "      <td>-0.0815095</td>\n",
       "      <td>0.572634</td>\n",
       "      <td>0.0820265</td>\n",
       "      <td>0.136538</td>\n",
       "    </tr>\n",
       "    <tr>\n",
       "      <th>minmax_total_charges</th>\n",
       "      <td>0.531337</td>\n",
       "      <td>0.441924</td>\n",
       "      <td>0.191948</td>\n",
       "      <td>0.122517</td>\n",
       "      <td>0.170313</td>\n",
       "    </tr>\n",
       "    <tr>\n",
       "      <th>robust_total_charges</th>\n",
       "      <td>0.210319</td>\n",
       "      <td>0.0496718</td>\n",
       "      <td>-0.399452</td>\n",
       "      <td>-0.524197</td>\n",
       "      <td>-0.438323</td>\n",
       "    </tr>\n",
       "    <tr>\n",
       "      <th>standard_total_charges</th>\n",
       "      <td>0.341049</td>\n",
       "      <td>0.0433926</td>\n",
       "      <td>-0.788773</td>\n",
       "      <td>-1.01991</td>\n",
       "      <td>-0.860796</td>\n",
       "    </tr>\n",
       "    <tr>\n",
       "      <th>mm_mc_inverse</th>\n",
       "      <td>4253.01</td>\n",
       "      <td>3913.95</td>\n",
       "      <td>762.515</td>\n",
       "      <td>380.63</td>\n",
       "      <td>730.394</td>\n",
       "    </tr>\n",
       "    <tr>\n",
       "      <th>robust_mc_inverse</th>\n",
       "      <td>73.8</td>\n",
       "      <td>69.05</td>\n",
       "      <td>24.9</td>\n",
       "      <td>19.55</td>\n",
       "      <td>24.45</td>\n",
       "    </tr>\n",
       "    <tr>\n",
       "      <th>standard_mc_inverse</th>\n",
       "      <td>73.8</td>\n",
       "      <td>69.05</td>\n",
       "      <td>24.9</td>\n",
       "      <td>19.55</td>\n",
       "      <td>24.45</td>\n",
       "    </tr>\n",
       "    <tr>\n",
       "      <th>standard_tenure_inverse</th>\n",
       "      <td>61</td>\n",
       "      <td>55</td>\n",
       "      <td>67</td>\n",
       "      <td>58</td>\n",
       "      <td>59</td>\n",
       "    </tr>\n",
       "    <tr>\n",
       "      <th>minmax_tenure_inverse</th>\n",
       "      <td>61</td>\n",
       "      <td>55</td>\n",
       "      <td>67</td>\n",
       "      <td>58</td>\n",
       "      <td>59</td>\n",
       "    </tr>\n",
       "    <tr>\n",
       "      <th>robust_tenure_inverse</th>\n",
       "      <td>61</td>\n",
       "      <td>55</td>\n",
       "      <td>67</td>\n",
       "      <td>58</td>\n",
       "      <td>59</td>\n",
       "    </tr>\n",
       "    <tr>\n",
       "      <th>minmax_tc_inverse</th>\n",
       "      <td>4616.05</td>\n",
       "      <td>3842.6</td>\n",
       "      <td>1680.25</td>\n",
       "      <td>1079.65</td>\n",
       "      <td>1493.1</td>\n",
       "    </tr>\n",
       "    <tr>\n",
       "      <th>robust_tc_inverse</th>\n",
       "      <td>4616.05</td>\n",
       "      <td>3842.6</td>\n",
       "      <td>1680.25</td>\n",
       "      <td>1079.65</td>\n",
       "      <td>1493.1</td>\n",
       "    </tr>\n",
       "    <tr>\n",
       "      <th>standard_tc_inverse</th>\n",
       "      <td>4616.05</td>\n",
       "      <td>3842.6</td>\n",
       "      <td>1680.25</td>\n",
       "      <td>1079.65</td>\n",
       "      <td>1493.1</td>\n",
       "    </tr>\n",
       "  </tbody>\n",
       "</table>\n",
       "</div>"
      ],
      "text/plain": [
       "                                1256        225         662         628   \\\n",
       "customer_id               7501-IWUNG  1303-SRDOK  3967-VQOGC  3777-XROBG   \n",
       "monthly_charges                 73.8       69.05        24.9       19.55   \n",
       "tenure                            61          55          67          58   \n",
       "total_charges                4616.05      3842.6     1680.25     1079.65   \n",
       "minmax_monthly_charges      0.552618    0.505237   0.0648379   0.0114713   \n",
       "robust_monthly_charges      0.134915   0.0644922   -0.590067   -0.669385   \n",
       "standard_monthly_charges    0.361757     0.22511    -1.04499    -1.19889   \n",
       "minmax_tenure               0.847222    0.763889    0.930556    0.805556   \n",
       "robust_tenure                 -0.125      -0.375       0.125       -0.25   \n",
       "standard_tenure             0.245562  -0.0815095    0.572634   0.0820265   \n",
       "minmax_total_charges        0.531337    0.441924    0.191948    0.122517   \n",
       "robust_total_charges        0.210319   0.0496718   -0.399452   -0.524197   \n",
       "standard_total_charges      0.341049   0.0433926   -0.788773    -1.01991   \n",
       "mm_mc_inverse                4253.01     3913.95     762.515      380.63   \n",
       "robust_mc_inverse               73.8       69.05        24.9       19.55   \n",
       "standard_mc_inverse             73.8       69.05        24.9       19.55   \n",
       "standard_tenure_inverse           61          55          67          58   \n",
       "minmax_tenure_inverse             61          55          67          58   \n",
       "robust_tenure_inverse             61          55          67          58   \n",
       "minmax_tc_inverse            4616.05      3842.6     1680.25     1079.65   \n",
       "robust_tc_inverse            4616.05      3842.6     1680.25     1079.65   \n",
       "standard_tc_inverse          4616.05      3842.6     1680.25     1079.65   \n",
       "\n",
       "                                824   \n",
       "customer_id               5075-JSDKI  \n",
       "monthly_charges                24.45  \n",
       "tenure                            59  \n",
       "total_charges                 1493.1  \n",
       "minmax_monthly_charges     0.0603491  \n",
       "robust_monthly_charges     -0.596738  \n",
       "standard_monthly_charges    -1.05793  \n",
       "minmax_tenure               0.819444  \n",
       "robust_tenure              -0.208333  \n",
       "standard_tenure             0.136538  \n",
       "minmax_total_charges        0.170313  \n",
       "robust_total_charges       -0.438323  \n",
       "standard_total_charges     -0.860796  \n",
       "mm_mc_inverse                730.394  \n",
       "robust_mc_inverse              24.45  \n",
       "standard_mc_inverse            24.45  \n",
       "standard_tenure_inverse           59  \n",
       "minmax_tenure_inverse             59  \n",
       "robust_tenure_inverse             59  \n",
       "minmax_tc_inverse             1493.1  \n",
       "robust_tc_inverse             1493.1  \n",
       "standard_tc_inverse           1493.1  "
      ]
     },
     "execution_count": 77,
     "metadata": {},
     "output_type": "execute_result"
    }
   ],
   "source": [
    "train.head().T"
   ]
  },
  {
   "cell_type": "markdown",
   "metadata": {},
   "source": [
    "<hr style=\"border:2px solid black\"> </hr>"
   ]
  },
  {
   "cell_type": "markdown",
   "metadata": {},
   "source": [
    "### #3. Read the documentation for sklearn's QuantileTransformer. Use normal for the output_distribution and apply this scaler to your data. Visualize the result of your data scaling."
   ]
  },
  {
   "cell_type": "markdown",
   "metadata": {},
   "source": [
    "#### Quantile Monthly Charges- (output_distribution='normal')"
   ]
  },
  {
   "cell_type": "code",
   "execution_count": 88,
   "metadata": {},
   "outputs": [],
   "source": [
    "#create\n",
    "quantile_mc = QuantileTransformer(output_distribution='normal')\n",
    "#fit\n",
    "quantile_mc.fit(train[['monthly_charges']])\n",
    "#transform and create columns\n",
    "train['monthly_charges_quantile'] = quantile_mc.transform(train[['monthly_charges']])"
   ]
  },
  {
   "cell_type": "code",
   "execution_count": 94,
   "metadata": {},
   "outputs": [
    {
     "data": {
      "text/plain": [
       "Text(0.5, 1.0, 'Scaled')"
      ]
     },
     "execution_count": 94,
     "metadata": {},
     "output_type": "execute_result"
    },
    {
     "data": {
      "image/png": "[encoded data removed]",
      "text/plain": [
       "<Figure size 936x432 with 2 Axes>"
      ]
     },
     "metadata": {
      "needs_background": "light"
     },
     "output_type": "display_data"
    }
   ],
   "source": [
    "plt.figure(figsize=(13, 6))\n",
    "plt.subplot(121)\n",
    "plt.hist(train.monthly_charges, bins=25, ec='black')\n",
    "plt.title('Unscaled')\n",
    "plt.subplot(122)\n",
    "plt.hist(train.monthly_charges_quantile, bins=25, ec='black')\n",
    "plt.title('Scaled')"
   ]
  },
  {
   "cell_type": "markdown",
   "metadata": {},
   "source": [
    "___________________________"
   ]
  },
  {
   "cell_type": "markdown",
   "metadata": {},
   "source": [
    "#### Quantile Tenure- (output_distribution='normal')"
   ]
  },
  {
   "cell_type": "code",
   "execution_count": 89,
   "metadata": {},
   "outputs": [],
   "source": [
    "quantile_tenure= QuantileTransformer(output_distribution='normal')\n",
    "#fit\n",
    "quantile_tenure.fit(train[['tenure']])\n",
    "#transform and create column\n",
    "train['quantile_tenure'] = quantile_tenure.transform(train[['tenure']])"
   ]
  },
  {
   "cell_type": "code",
   "execution_count": 95,
   "metadata": {},
   "outputs": [
    {
     "data": {
      "text/plain": [
       "Text(0.5, 1.0, 'Scaled')"
      ]
     },
     "execution_count": 95,
     "metadata": {},
     "output_type": "execute_result"
    },
    {
     "data": {
      "image/png": "[encoded data removed]",
      "text/plain": [
       "<Figure size 936x432 with 2 Axes>"
      ]
     },
     "metadata": {
      "needs_background": "light"
     },
     "output_type": "display_data"
    }
   ],
   "source": [
    "plt.figure(figsize=(13, 6))\n",
    "plt.subplot(121)\n",
    "plt.hist(train.tenure, bins=25, ec='black')\n",
    "plt.title('Unscaled')\n",
    "plt.subplot(122)\n",
    "plt.hist(train.quantile_tenure, bins=25, ec='black')\n",
    "plt.title('Scaled')"
   ]
  },
  {
   "cell_type": "markdown",
   "metadata": {},
   "source": [
    "__________________________"
   ]
  },
  {
   "cell_type": "markdown",
   "metadata": {},
   "source": [
    "#### Quantile total Charges-  (output_distribution='normal')"
   ]
  },
  {
   "cell_type": "code",
   "execution_count": 96,
   "metadata": {},
   "outputs": [],
   "source": [
    "#create\n",
    "quantile_mc = QuantileTransformer(output_distribution='normal')\n",
    "#fit\n",
    "quantile_mc.fit(train[['total_charges']])\n",
    "#transform and create columns\n",
    "train['total_charges_quantile'] = quantile_mc.transform(train[['total_charges']])"
   ]
  },
  {
   "cell_type": "code",
   "execution_count": 97,
   "metadata": {},
   "outputs": [
    {
     "data": {
      "text/plain": [
       "Text(0.5, 1.0, 'Scaled')"
      ]
     },
     "execution_count": 97,
     "metadata": {},
     "output_type": "execute_result"
    },
    {
     "data": {
      "image/png": "[encoded data removed]",
      "text/plain": [
       "<Figure size 936x432 with 2 Axes>"
      ]
     },
     "metadata": {
      "needs_background": "light"
     },
     "output_type": "display_data"
    }
   ],
   "source": [
    "plt.figure(figsize=(13, 6))\n",
    "plt.subplot(121)\n",
    "plt.hist(train.total_charges, bins=25, ec='black')\n",
    "plt.title('Unscaled')\n",
    "plt.subplot(122)\n",
    "plt.hist(train.total_charges_quantile, bins=25, ec='black')\n",
    "plt.title('Scaled')"
   ]
  },
  {
   "cell_type": "markdown",
   "metadata": {},
   "source": [
    "<hr style=\"border:2px solid black\"> </hr>"
   ]
  },
  {
   "cell_type": "markdown",
   "metadata": {},
   "source": [
    "### #4. Use the QuantileTransformer, but omit the output_distribution argument. Visualize your results. What do you notice?"
   ]
  },
  {
   "cell_type": "markdown",
   "metadata": {},
   "source": [
    "#### Quantile Monthly Charges"
   ]
  },
  {
   "cell_type": "code",
   "execution_count": 101,
   "metadata": {},
   "outputs": [],
   "source": [
    "#create\n",
    "quantile_mc = QuantileTransformer()\n",
    "#fit\n",
    "quantile_mc.fit(train[['monthly_charges']])\n",
    "#transform and create columns\n",
    "train['monthly_charges_quantile'] = quantile_mc.transform(train[['monthly_charges']])"
   ]
  },
  {
   "cell_type": "code",
   "execution_count": 102,
   "metadata": {},
   "outputs": [
    {
     "data": {
      "text/plain": [
       "Text(0.5, 1.0, 'Scaled')"
      ]
     },
     "execution_count": 102,
     "metadata": {},
     "output_type": "execute_result"
    },
    {
     "data": {
      "image/png": "[encoded data removed]",
      "text/plain": [
       "<Figure size 936x432 with 2 Axes>"
      ]
     },
     "metadata": {
      "needs_background": "light"
     },
     "output_type": "display_data"
    }
   ],
   "source": [
    "plt.figure(figsize=(13, 6))\n",
    "plt.subplot(121)\n",
    "plt.hist(train.monthly_charges, bins=25, ec='black')\n",
    "plt.title('Unscaled')\n",
    "plt.subplot(122)\n",
    "plt.hist(train.monthly_charges_quantile, bins=25, ec='black')\n",
    "plt.title('Scaled')"
   ]
  },
  {
   "cell_type": "markdown",
   "metadata": {},
   "source": [
    "_________________"
   ]
  },
  {
   "cell_type": "markdown",
   "metadata": {},
   "source": [
    "#### Quantile Tenure"
   ]
  },
  {
   "cell_type": "code",
   "execution_count": 98,
   "metadata": {},
   "outputs": [],
   "source": [
    "quantile_tenure= QuantileTransformer()\n",
    "#fit\n",
    "quantile_tenure.fit(train[['tenure']])\n",
    "#transform and create column\n",
    "train['quantile_tenure'] = quantile_tenure.transform(train[['tenure']])"
   ]
  },
  {
   "cell_type": "code",
   "execution_count": 99,
   "metadata": {},
   "outputs": [
    {
     "data": {
      "text/plain": [
       "Text(0.5, 1.0, 'Scaled')"
      ]
     },
     "execution_count": 99,
     "metadata": {},
     "output_type": "execute_result"
    },
    {
     "data": {
      "image/png": "[encoded data removed]",
      "text/plain": [
       "<Figure size 936x432 with 2 Axes>"
      ]
     },
     "metadata": {
      "needs_background": "light"
     },
     "output_type": "display_data"
    }
   ],
   "source": [
    "plt.figure(figsize=(13, 6))\n",
    "plt.subplot(121)\n",
    "plt.hist(train.tenure, bins=25, ec='black')\n",
    "plt.title('Unscaled')\n",
    "plt.subplot(122)\n",
    "plt.hist(train.quantile_tenure, bins=25, ec='black')\n",
    "plt.title('Scaled')"
   ]
  },
  {
   "cell_type": "markdown",
   "metadata": {},
   "source": [
    "________________"
   ]
  },
  {
   "cell_type": "markdown",
   "metadata": {},
   "source": [
    "#### Quantile total_charges"
   ]
  },
  {
   "cell_type": "code",
   "execution_count": 103,
   "metadata": {},
   "outputs": [],
   "source": [
    "#create\n",
    "quantile_mc = QuantileTransformer()\n",
    "#fit\n",
    "quantile_mc.fit(train[['total_charges']])\n",
    "#transform and create columns\n",
    "train['total_charges_quantile'] = quantile_mc.transform(train[['total_charges']])"
   ]
  },
  {
   "cell_type": "code",
   "execution_count": 104,
   "metadata": {},
   "outputs": [
    {
     "data": {
      "text/plain": [
       "Text(0.5, 1.0, 'Scaled')"
      ]
     },
     "execution_count": 104,
     "metadata": {},
     "output_type": "execute_result"
    },
    {
     "data": {
      "image/png": "[encoded data removed]",
      "text/plain": [
       "<Figure size 936x432 with 2 Axes>"
      ]
     },
     "metadata": {
      "needs_background": "light"
     },
     "output_type": "display_data"
    }
   ],
   "source": [
    "plt.figure(figsize=(13, 6))\n",
    "plt.subplot(121)\n",
    "plt.hist(train.total_charges, bins=25, ec='black')\n",
    "plt.title('Unscaled')\n",
    "plt.subplot(122)\n",
    "plt.hist(train.total_charges_quantile, bins=25, ec='black')\n",
    "plt.title('Scaled')"
   ]
  },
  {
   "cell_type": "markdown",
   "metadata": {},
   "source": [
    "<hr style=\"border:2px solid black\"> </hr>"
   ]
  },
  {
   "cell_type": "markdown",
   "metadata": {},
   "source": [
    "### #5. Based on the work you've done, choose a scaling method for your dataset. Write a function within your prepare.py that accepts as input the train, validate, and test data splits, and returns the scaled versions of each. Be sure to only learn the parameters for scaling from your training data!"
   ]
  },
  {
   "cell_type": "code",
   "execution_count": 120,
   "metadata": {},
   "outputs": [],
   "source": [
    "def Min_Max_scaler(X_train, X_validate, X_test):\n",
    "    '''\n",
    "    Takes in three pandas DataFrames: X_train, X_validate, X_test\n",
    "    output: scaler object, sclaer versions of X_train, X_validate, and X_test\n",
    "    \n",
    "    This function assumes the independent variables being fed into it as arguements \n",
    "    are all consisting of continuous features (numeric variables)\n",
    "    '''\n",
    "    scaler = MinMaxScaler().fit(X_train)\n",
    "    X_train_scaled = pd.DataFrame(scaler.transform(X_train), index=X_train.index, columns=X_train.columns)\n",
    "    X_validate_scaled = pd.DataFrame(scaler.transform(X_validate), index=X_validate.index, columns=X_validate.columns)\n",
    "    X_test_scaled = pd.DataFrame(scaler.transform(X_test), index=X_test.index, columns=X_test.columns)\n",
    "    \n",
    "    return scaler, X_train_scaled, X_validate_scaled, X_test_scaled"
   ]
  },
  {
   "cell_type": "code",
   "execution_count": 121,
   "metadata": {},
   "outputs": [],
   "source": [
    "X_train= train[['monthly_charges', 'tenure']]\n",
    "X_validate = validate[['monthly_charges', 'tenure']]\n",
    "X_test = test[['monthly_charges', 'tenure']]"
   ]
  },
  {
   "cell_type": "code",
   "execution_count": 122,
   "metadata": {},
   "outputs": [
    {
     "data": {
      "text/html": [
       "<div>\n",
       "<style scoped>\n",
       "    .dataframe tbody tr th:only-of-type {\n",
       "        vertical-align: middle;\n",
       "    }\n",
       "\n",
       "    .dataframe tbody tr th {\n",
       "        vertical-align: top;\n",
       "    }\n",
       "\n",
       "    .dataframe thead th {\n",
       "        text-align: right;\n",
       "    }\n",
       "</style>\n",
       "<table border=\"1\" class=\"dataframe\">\n",
       "  <thead>\n",
       "    <tr style=\"text-align: right;\">\n",
       "      <th></th>\n",
       "      <th>monthly_charges</th>\n",
       "      <th>tenure</th>\n",
       "    </tr>\n",
       "  </thead>\n",
       "  <tbody>\n",
       "    <tr>\n",
       "      <th>1256</th>\n",
       "      <td>0.552618</td>\n",
       "      <td>0.847222</td>\n",
       "    </tr>\n",
       "    <tr>\n",
       "      <th>225</th>\n",
       "      <td>0.505237</td>\n",
       "      <td>0.763889</td>\n",
       "    </tr>\n",
       "    <tr>\n",
       "      <th>662</th>\n",
       "      <td>0.064838</td>\n",
       "      <td>0.930556</td>\n",
       "    </tr>\n",
       "    <tr>\n",
       "      <th>628</th>\n",
       "      <td>0.011471</td>\n",
       "      <td>0.805556</td>\n",
       "    </tr>\n",
       "    <tr>\n",
       "      <th>824</th>\n",
       "      <td>0.060349</td>\n",
       "      <td>0.819444</td>\n",
       "    </tr>\n",
       "  </tbody>\n",
       "</table>\n",
       "</div>"
      ],
      "text/plain": [
       "      monthly_charges    tenure\n",
       "1256         0.552618  0.847222\n",
       "225          0.505237  0.763889\n",
       "662          0.064838  0.930556\n",
       "628          0.011471  0.805556\n",
       "824          0.060349  0.819444"
      ]
     },
     "execution_count": 122,
     "metadata": {},
     "output_type": "execute_result"
    }
   ],
   "source": [
    "scaler, X_train_scaled, X_validate_scaled, X_test_scaler= Min_Max_scaler(X_train, X_validate, X_test)\n",
    "X_train_scaled.head()"
   ]
  },
  {
   "cell_type": "code",
   "execution_count": null,
   "metadata": {},
   "outputs": [],
   "source": []
  }
 ],
 "metadata": {
  "kernelspec": {
   "display_name": "Python 3",
   "language": "python",
   "name": "python3"
  },
  "language_info": {
   "codemirror_mode": {
    "name": "ipython",
    "version": 3
   },
   "file_extension": ".py",
   "mimetype": "text/x-python",
   "name": "python",
   "nbconvert_exporter": "python",
   "pygments_lexer": "ipython3",
   "version": "3.8.5"
  }
 },
 "nbformat": 4,
 "nbformat_minor": 4
}
