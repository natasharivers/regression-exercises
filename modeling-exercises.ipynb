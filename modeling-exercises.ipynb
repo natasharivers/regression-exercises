{
 "cells": [
  {
   "cell_type": "markdown",
   "metadata": {},
   "source": [
    "# Modeling Exercises"
   ]
  },
  {
   "cell_type": "markdown",
   "metadata": {},
   "source": [
    "1. Select a dataset with a continuous target variable.\n",
    "\n",
    "2. Be sure your data is prepared (no missing values, numeric datatypes) and split into samples.\n",
    "\n",
    "3. Work through all of the steps outlined in the lesson, from setting the baseline to selected a model and evaluating the final model on your test data."
   ]
  },
  {
   "cell_type": "code",
   "execution_count": 1,
   "metadata": {},
   "outputs": [],
   "source": [
    "import warnings\n",
    "warnings.filterwarnings(\"ignore\")\n",
    "\n",
    "import pandas as pd\n",
    "import matplotlib.pyplot as plt\n",
    "from pydataset import data\n",
    "import math\n",
    "import wrangle2\n",
    "\n",
    "from sklearn.model_selection import train_test_split\n",
    "from sklearn.linear_model import LinearRegression, TweedieRegressor, LassoLars\n",
    "from sklearn.metrics import mean_squared_error, explained_variance_score\n",
    "from sklearn.feature_selection import RFE, SelectKBest, f_regression\n",
    "from sklearn.preprocessing import MinMaxScaler\n"
   ]
  },
  {
   "cell_type": "markdown",
   "metadata": {},
   "source": [
    "### #1 Select a dataset with a continuous target variable."
   ]
  },
  {
   "cell_type": "code",
   "execution_count": 2,
   "metadata": {},
   "outputs": [],
   "source": [
    "#import chosen dataset\n",
    "df= data('swiss')"
   ]
  },
  {
   "cell_type": "code",
   "execution_count": 3,
   "metadata": {},
   "outputs": [
    {
     "name": "stdout",
     "output_type": "stream",
     "text": [
      "<class 'pandas.core.frame.DataFrame'>\n",
      "Index: 47 entries, Courtelary to Rive Gauche\n",
      "Data columns (total 6 columns):\n",
      " #   Column            Non-Null Count  Dtype  \n",
      "---  ------            --------------  -----  \n",
      " 0   Fertility         47 non-null     float64\n",
      " 1   Agriculture       47 non-null     float64\n",
      " 2   Examination       47 non-null     int64  \n",
      " 3   Education         47 non-null     int64  \n",
      " 4   Catholic          47 non-null     float64\n",
      " 5   Infant.Mortality  47 non-null     float64\n",
      "dtypes: float64(4), int64(2)\n",
      "memory usage: 2.6+ KB\n"
     ]
    }
   ],
   "source": [
    "#get basic info on data\n",
    "df.info()"
   ]
  },
  {
   "cell_type": "code",
   "execution_count": 4,
   "metadata": {},
   "outputs": [
    {
     "data": {
      "text/html": [
       "<div>\n",
       "<style scoped>\n",
       "    .dataframe tbody tr th:only-of-type {\n",
       "        vertical-align: middle;\n",
       "    }\n",
       "\n",
       "    .dataframe tbody tr th {\n",
       "        vertical-align: top;\n",
       "    }\n",
       "\n",
       "    .dataframe thead th {\n",
       "        text-align: right;\n",
       "    }\n",
       "</style>\n",
       "<table border=\"1\" class=\"dataframe\">\n",
       "  <thead>\n",
       "    <tr style=\"text-align: right;\">\n",
       "      <th></th>\n",
       "      <th>Fertility</th>\n",
       "      <th>Agriculture</th>\n",
       "      <th>Examination</th>\n",
       "      <th>Education</th>\n",
       "      <th>Catholic</th>\n",
       "      <th>Infant.Mortality</th>\n",
       "    </tr>\n",
       "  </thead>\n",
       "  <tbody>\n",
       "    <tr>\n",
       "      <th>Courtelary</th>\n",
       "      <td>80.2</td>\n",
       "      <td>17.0</td>\n",
       "      <td>15</td>\n",
       "      <td>12</td>\n",
       "      <td>9.96</td>\n",
       "      <td>22.2</td>\n",
       "    </tr>\n",
       "    <tr>\n",
       "      <th>Delemont</th>\n",
       "      <td>83.1</td>\n",
       "      <td>45.1</td>\n",
       "      <td>6</td>\n",
       "      <td>9</td>\n",
       "      <td>84.84</td>\n",
       "      <td>22.2</td>\n",
       "    </tr>\n",
       "    <tr>\n",
       "      <th>Franches-Mnt</th>\n",
       "      <td>92.5</td>\n",
       "      <td>39.7</td>\n",
       "      <td>5</td>\n",
       "      <td>5</td>\n",
       "      <td>93.40</td>\n",
       "      <td>20.2</td>\n",
       "    </tr>\n",
       "    <tr>\n",
       "      <th>Moutier</th>\n",
       "      <td>85.8</td>\n",
       "      <td>36.5</td>\n",
       "      <td>12</td>\n",
       "      <td>7</td>\n",
       "      <td>33.77</td>\n",
       "      <td>20.3</td>\n",
       "    </tr>\n",
       "    <tr>\n",
       "      <th>Neuveville</th>\n",
       "      <td>76.9</td>\n",
       "      <td>43.5</td>\n",
       "      <td>17</td>\n",
       "      <td>15</td>\n",
       "      <td>5.16</td>\n",
       "      <td>20.6</td>\n",
       "    </tr>\n",
       "  </tbody>\n",
       "</table>\n",
       "</div>"
      ],
      "text/plain": [
       "              Fertility  Agriculture  Examination  Education  Catholic  \\\n",
       "Courtelary         80.2         17.0           15         12      9.96   \n",
       "Delemont           83.1         45.1            6          9     84.84   \n",
       "Franches-Mnt       92.5         39.7            5          5     93.40   \n",
       "Moutier            85.8         36.5           12          7     33.77   \n",
       "Neuveville         76.9         43.5           17         15      5.16   \n",
       "\n",
       "              Infant.Mortality  \n",
       "Courtelary                22.2  \n",
       "Delemont                  22.2  \n",
       "Franches-Mnt              20.2  \n",
       "Moutier                   20.3  \n",
       "Neuveville                20.6  "
      ]
     },
     "execution_count": 4,
     "metadata": {},
     "output_type": "execute_result"
    }
   ],
   "source": [
    "#take a look\n",
    "df.head()"
   ]
  },
  {
   "cell_type": "markdown",
   "metadata": {},
   "source": [
    "<hr style=\"border:2px solid black\"> </hr>"
   ]
  },
  {
   "cell_type": "markdown",
   "metadata": {},
   "source": [
    "### #2 Be sure your data is prepared (no missing values, numeric datatypes) and split into samples."
   ]
  },
  {
   "cell_type": "code",
   "execution_count": 5,
   "metadata": {},
   "outputs": [
    {
     "data": {
      "text/plain": [
       "(47, 6)"
      ]
     },
     "execution_count": 5,
     "metadata": {},
     "output_type": "execute_result"
    }
   ],
   "source": [
    "#check shape of df\n",
    "df.shape"
   ]
  },
  {
   "cell_type": "code",
   "execution_count": 6,
   "metadata": {},
   "outputs": [
    {
     "data": {
      "text/plain": [
       "Fertility           0\n",
       "Agriculture         0\n",
       "Examination         0\n",
       "Education           0\n",
       "Catholic            0\n",
       "Infant.Mortality    0\n",
       "dtype: int64"
      ]
     },
     "execution_count": 6,
     "metadata": {},
     "output_type": "execute_result"
    }
   ],
   "source": [
    "#check for nulls\n",
    "df.isnull().sum()"
   ]
  },
  {
   "cell_type": "code",
   "execution_count": 7,
   "metadata": {},
   "outputs": [
    {
     "data": {
      "text/plain": [
       "Fertility           float64\n",
       "Agriculture         float64\n",
       "Examination           int64\n",
       "Education             int64\n",
       "Catholic            float64\n",
       "Infant.Mortality    float64\n",
       "dtype: object"
      ]
     },
     "execution_count": 7,
     "metadata": {},
     "output_type": "execute_result"
    }
   ],
   "source": [
    "#check data types\n",
    "df.dtypes"
   ]
  },
  {
   "cell_type": "code",
   "execution_count": 8,
   "metadata": {},
   "outputs": [],
   "source": [
    "#split the data\n",
    "X_train, y_train, X_validate, y_validate, X_test, y_test = wrangle2.train_validate_test(df, 'Fertility')"
   ]
  },
  {
   "cell_type": "code",
   "execution_count": 9,
   "metadata": {},
   "outputs": [
    {
     "data": {
      "text/plain": [
       "((25, 5), (12, 5), (10, 5))"
      ]
     },
     "execution_count": 9,
     "metadata": {},
     "output_type": "execute_result"
    }
   ],
   "source": [
    "#check shape of each dataset\n",
    "X_train.shape, X_validate.shape, X_test.shape"
   ]
  },
  {
   "cell_type": "code",
   "execution_count": 10,
   "metadata": {},
   "outputs": [],
   "source": [
    "#call numeric columns\n",
    "numeric_cols = ['Agriculture', 'Examination', 'Education', 'Catholic',\n",
    "       'Infant.Mortality']"
   ]
  },
  {
   "cell_type": "code",
   "execution_count": 11,
   "metadata": {},
   "outputs": [],
   "source": [
    "#scale data\n",
    "X_train_scaled, X_validate_scaled, X_test_scaled =  wrangle2.min_max_scale(X_train, X_validate, X_test, numeric_cols)"
   ]
  },
  {
   "cell_type": "code",
   "execution_count": 12,
   "metadata": {},
   "outputs": [
    {
     "data": {
      "text/html": [
       "<div>\n",
       "<style scoped>\n",
       "    .dataframe tbody tr th:only-of-type {\n",
       "        vertical-align: middle;\n",
       "    }\n",
       "\n",
       "    .dataframe tbody tr th {\n",
       "        vertical-align: top;\n",
       "    }\n",
       "\n",
       "    .dataframe thead th {\n",
       "        text-align: right;\n",
       "    }\n",
       "</style>\n",
       "<table border=\"1\" class=\"dataframe\">\n",
       "  <thead>\n",
       "    <tr style=\"text-align: right;\">\n",
       "      <th></th>\n",
       "      <th>Agriculture</th>\n",
       "      <th>Examination</th>\n",
       "      <th>Education</th>\n",
       "      <th>Catholic</th>\n",
       "      <th>Infant.Mortality</th>\n",
       "    </tr>\n",
       "  </thead>\n",
       "  <tbody>\n",
       "    <tr>\n",
       "      <th>Rolle</th>\n",
       "      <td>0.647561</td>\n",
       "      <td>0.40625</td>\n",
       "      <td>0.290323</td>\n",
       "      <td>0.054508</td>\n",
       "      <td>0.122449</td>\n",
       "    </tr>\n",
       "    <tr>\n",
       "      <th>Lavaux</th>\n",
       "      <td>0.796341</td>\n",
       "      <td>0.50000</td>\n",
       "      <td>0.258065</td>\n",
       "      <td>0.004508</td>\n",
       "      <td>0.500000</td>\n",
       "    </tr>\n",
       "    <tr>\n",
       "      <th>Nyone</th>\n",
       "      <td>0.526829</td>\n",
       "      <td>0.59375</td>\n",
       "      <td>0.354839</td>\n",
       "      <td>0.130533</td>\n",
       "      <td>0.163265</td>\n",
       "    </tr>\n",
       "    <tr>\n",
       "      <th>Conthey</th>\n",
       "      <td>0.953659</td>\n",
       "      <td>0.00000</td>\n",
       "      <td>0.032258</td>\n",
       "      <td>0.997029</td>\n",
       "      <td>0.000000</td>\n",
       "    </tr>\n",
       "    <tr>\n",
       "      <th>Yverdon</th>\n",
       "      <td>0.509756</td>\n",
       "      <td>0.37500</td>\n",
       "      <td>0.225806</td>\n",
       "      <td>0.037910</td>\n",
       "      <td>0.755102</td>\n",
       "    </tr>\n",
       "  </tbody>\n",
       "</table>\n",
       "</div>"
      ],
      "text/plain": [
       "         Agriculture  Examination  Education  Catholic  Infant.Mortality\n",
       "Rolle       0.647561      0.40625   0.290323  0.054508          0.122449\n",
       "Lavaux      0.796341      0.50000   0.258065  0.004508          0.500000\n",
       "Nyone       0.526829      0.59375   0.354839  0.130533          0.163265\n",
       "Conthey     0.953659      0.00000   0.032258  0.997029          0.000000\n",
       "Yverdon     0.509756      0.37500   0.225806  0.037910          0.755102"
      ]
     },
     "execution_count": 12,
     "metadata": {},
     "output_type": "execute_result"
    }
   ],
   "source": [
    "#take a look at \n",
    "X_train_scaled.head()"
   ]
  },
  {
   "cell_type": "code",
   "execution_count": 13,
   "metadata": {},
   "outputs": [
    {
     "data": {
      "text/plain": [
       "Rolle      60.5\n",
       "Lavaux     65.1\n",
       "Nyone      56.6\n",
       "Conthey    75.5\n",
       "Yverdon    65.4\n",
       "Name: Fertility, dtype: float64"
      ]
     },
     "execution_count": 13,
     "metadata": {},
     "output_type": "execute_result"
    }
   ],
   "source": [
    "y_train.head()"
   ]
  },
  {
   "cell_type": "markdown",
   "metadata": {},
   "source": [
    "<hr style=\"border:2px solid black\"> </hr>"
   ]
  },
  {
   "cell_type": "markdown",
   "metadata": {},
   "source": [
    "### #3. Work through all of the steps outlined in the lesson, from setting the baseline to selected a model and evaluating the final model on your test data."
   ]
  },
  {
   "cell_type": "code",
   "execution_count": 14,
   "metadata": {},
   "outputs": [
    {
     "data": {
      "text/html": [
       "<div>\n",
       "<style scoped>\n",
       "    .dataframe tbody tr th:only-of-type {\n",
       "        vertical-align: middle;\n",
       "    }\n",
       "\n",
       "    .dataframe tbody tr th {\n",
       "        vertical-align: top;\n",
       "    }\n",
       "\n",
       "    .dataframe thead th {\n",
       "        text-align: right;\n",
       "    }\n",
       "</style>\n",
       "<table border=\"1\" class=\"dataframe\">\n",
       "  <thead>\n",
       "    <tr style=\"text-align: right;\">\n",
       "      <th></th>\n",
       "      <th>Fertility</th>\n",
       "      <th>Agriculture</th>\n",
       "      <th>Examination</th>\n",
       "      <th>Education</th>\n",
       "      <th>Catholic</th>\n",
       "      <th>Infant.Mortality</th>\n",
       "    </tr>\n",
       "  </thead>\n",
       "  <tbody>\n",
       "    <tr>\n",
       "      <th>Fertility</th>\n",
       "      <td>1.000000</td>\n",
       "      <td>0.353079</td>\n",
       "      <td>-0.645883</td>\n",
       "      <td>-0.663789</td>\n",
       "      <td>0.463685</td>\n",
       "      <td>0.416556</td>\n",
       "    </tr>\n",
       "    <tr>\n",
       "      <th>Agriculture</th>\n",
       "      <td>0.353079</td>\n",
       "      <td>1.000000</td>\n",
       "      <td>-0.686542</td>\n",
       "      <td>-0.639523</td>\n",
       "      <td>0.401095</td>\n",
       "      <td>-0.060859</td>\n",
       "    </tr>\n",
       "    <tr>\n",
       "      <th>Examination</th>\n",
       "      <td>-0.645883</td>\n",
       "      <td>-0.686542</td>\n",
       "      <td>1.000000</td>\n",
       "      <td>0.698415</td>\n",
       "      <td>-0.572742</td>\n",
       "      <td>-0.114022</td>\n",
       "    </tr>\n",
       "    <tr>\n",
       "      <th>Education</th>\n",
       "      <td>-0.663789</td>\n",
       "      <td>-0.639523</td>\n",
       "      <td>0.698415</td>\n",
       "      <td>1.000000</td>\n",
       "      <td>-0.153859</td>\n",
       "      <td>-0.099322</td>\n",
       "    </tr>\n",
       "    <tr>\n",
       "      <th>Catholic</th>\n",
       "      <td>0.463685</td>\n",
       "      <td>0.401095</td>\n",
       "      <td>-0.572742</td>\n",
       "      <td>-0.153859</td>\n",
       "      <td>1.000000</td>\n",
       "      <td>0.175496</td>\n",
       "    </tr>\n",
       "    <tr>\n",
       "      <th>Infant.Mortality</th>\n",
       "      <td>0.416556</td>\n",
       "      <td>-0.060859</td>\n",
       "      <td>-0.114022</td>\n",
       "      <td>-0.099322</td>\n",
       "      <td>0.175496</td>\n",
       "      <td>1.000000</td>\n",
       "    </tr>\n",
       "  </tbody>\n",
       "</table>\n",
       "</div>"
      ],
      "text/plain": [
       "                  Fertility  Agriculture  Examination  Education  Catholic  \\\n",
       "Fertility          1.000000     0.353079    -0.645883  -0.663789  0.463685   \n",
       "Agriculture        0.353079     1.000000    -0.686542  -0.639523  0.401095   \n",
       "Examination       -0.645883    -0.686542     1.000000   0.698415 -0.572742   \n",
       "Education         -0.663789    -0.639523     0.698415   1.000000 -0.153859   \n",
       "Catholic           0.463685     0.401095    -0.572742  -0.153859  1.000000   \n",
       "Infant.Mortality   0.416556    -0.060859    -0.114022  -0.099322  0.175496   \n",
       "\n",
       "                  Infant.Mortality  \n",
       "Fertility                 0.416556  \n",
       "Agriculture              -0.060859  \n",
       "Examination              -0.114022  \n",
       "Education                -0.099322  \n",
       "Catholic                  0.175496  \n",
       "Infant.Mortality          1.000000  "
      ]
     },
     "execution_count": 14,
     "metadata": {},
     "output_type": "execute_result"
    }
   ],
   "source": [
    "#feature engineering\n",
    "df.corr()"
   ]
  },
  {
   "cell_type": "markdown",
   "metadata": {},
   "source": [
    "______________________________"
   ]
  },
  {
   "cell_type": "markdown",
   "metadata": {},
   "source": [
    "### RFE Model- Feature Engineering"
   ]
  },
  {
   "cell_type": "code",
   "execution_count": 15,
   "metadata": {},
   "outputs": [
    {
     "data": {
      "text/plain": [
       "RFE(estimator=LinearRegression(), n_features_to_select=2)"
      ]
     },
     "execution_count": 15,
     "metadata": {},
     "output_type": "execute_result"
    }
   ],
   "source": [
    "lm = LinearRegression()\n",
    "rfe = RFE(estimator=lm, n_features_to_select=2)\n",
    "rfe.fit(X_train_scaled, y_train)"
   ]
  },
  {
   "cell_type": "code",
   "execution_count": 16,
   "metadata": {},
   "outputs": [
    {
     "data": {
      "text/plain": [
       "array([2, 1, 4, 3, 1])"
      ]
     },
     "execution_count": 16,
     "metadata": {},
     "output_type": "execute_result"
    }
   ],
   "source": [
    "feature_mask_rank = rfe.ranking_\n",
    "feature_mask_rank"
   ]
  },
  {
   "cell_type": "code",
   "execution_count": 17,
   "metadata": {},
   "outputs": [
    {
     "data": {
      "text/plain": [
       "['Examination', 'Infant.Mortality']"
      ]
     },
     "execution_count": 17,
     "metadata": {},
     "output_type": "execute_result"
    }
   ],
   "source": [
    "rfe_columns = X_train.columns[rfe.support_].tolist()\n",
    "rfe_columns"
   ]
  },
  {
   "cell_type": "markdown",
   "metadata": {},
   "source": [
    "### Select KBest Model- Feature Engineering"
   ]
  },
  {
   "cell_type": "code",
   "execution_count": 18,
   "metadata": {},
   "outputs": [
    {
     "data": {
      "text/plain": [
       "Index(['Catholic'], dtype='object')"
      ]
     },
     "execution_count": 18,
     "metadata": {},
     "output_type": "execute_result"
    }
   ],
   "source": [
    "selectkbest = SelectKBest(score_func=f_regression, k=1)\n",
    "selectkbest.fit(X_train, y_train)\n",
    "mask = selectkbest.get_support()\n",
    "X_train.columns[mask]"
   ]
  },
  {
   "cell_type": "markdown",
   "metadata": {},
   "source": [
    "_______________________________________"
   ]
  },
  {
   "cell_type": "markdown",
   "metadata": {},
   "source": [
    "### Baseline"
   ]
  },
  {
   "cell_type": "code",
   "execution_count": 19,
   "metadata": {},
   "outputs": [],
   "source": [
    "# We need y_train and y_validate to be dataframes to append the new columns with predicted values. \n",
    "y_train = pd.DataFrame(y_train)\n",
    "y_validate = pd.DataFrame(y_validate)"
   ]
  },
  {
   "cell_type": "code",
   "execution_count": 20,
   "metadata": {},
   "outputs": [],
   "source": [
    "# 1. Predict fertility_pred_mean\n",
    "fertility_pred_mean = y_train['Fertility'].mean()\n",
    "y_train['fertility_pred_mean'] = fertility_pred_mean\n",
    "y_validate['fertility_pred_mean'] = fertility_pred_mean"
   ]
  },
  {
   "cell_type": "code",
   "execution_count": 21,
   "metadata": {},
   "outputs": [],
   "source": [
    "# 2. compute ferility_pred_median\n",
    "fertility_pred_median = y_train['Fertility'].median()\n",
    "y_train['fertility_pred_median'] = fertility_pred_median\n",
    "y_validate['fertility_pred_median'] = fertility_pred_median"
   ]
  },
  {
   "cell_type": "code",
   "execution_count": 22,
   "metadata": {},
   "outputs": [
    {
     "name": "stdout",
     "output_type": "stream",
     "text": [
      "RMSE using Mean\n",
      "Train/In-Sample:  9.77 \n",
      "Validate/Out-of-Sample:  14.78\n"
     ]
    }
   ],
   "source": [
    "# 3. RMSE of fertility_pred_mean\n",
    "rmse_train = mean_squared_error(y_train.Fertility, y_train.fertility_pred_mean)**(1/2)\n",
    "rmse_validate = mean_squared_error(y_validate.Fertility, y_validate.fertility_pred_mean)**(1/2)\n",
    "print(\"RMSE using Mean\\nTrain/In-Sample: \", round(rmse_train, 2), \n",
    "      \"\\nValidate/Out-of-Sample: \", round(rmse_validate, 2))"
   ]
  },
  {
   "cell_type": "code",
   "execution_count": 23,
   "metadata": {},
   "outputs": [
    {
     "name": "stdout",
     "output_type": "stream",
     "text": [
      "RMSE using Median\n",
      "Train/In-Sample:  9.78 \n",
      "Validate/Out-of-Sample:  14.83\n"
     ]
    }
   ],
   "source": [
    "# 4. RMSE of fertility_pred_median\n",
    "rmse_train = mean_squared_error(y_train.Fertility, y_train.fertility_pred_median)**(1/2)\n",
    "rmse_validate = mean_squared_error(y_validate.Fertility, y_validate.fertility_pred_median)**(1/2)\n",
    "\n",
    "print(\"RMSE using Median\\nTrain/In-Sample: \", round(rmse_train, 2), \n",
    "      \"\\nValidate/Out-of-Sample: \", round(rmse_validate, 2))"
   ]
  },
  {
   "cell_type": "code",
   "execution_count": 24,
   "metadata": {},
   "outputs": [],
   "source": [
    "metric_df = pd.DataFrame(data=[{\n",
    "    'model': 'mean_baseline',\n",
    "    'rmse_validate': rmse_validate,\n",
    "    'r^2_validate': explained_variance_score(y_validate.Fertility, y_validate.fertility_pred_mean)}])"
   ]
  },
  {
   "cell_type": "code",
   "execution_count": 25,
   "metadata": {},
   "outputs": [
    {
     "data": {
      "text/html": [
       "<div>\n",
       "<style scoped>\n",
       "    .dataframe tbody tr th:only-of-type {\n",
       "        vertical-align: middle;\n",
       "    }\n",
       "\n",
       "    .dataframe tbody tr th {\n",
       "        vertical-align: top;\n",
       "    }\n",
       "\n",
       "    .dataframe thead th {\n",
       "        text-align: right;\n",
       "    }\n",
       "</style>\n",
       "<table border=\"1\" class=\"dataframe\">\n",
       "  <thead>\n",
       "    <tr style=\"text-align: right;\">\n",
       "      <th></th>\n",
       "      <th>model</th>\n",
       "      <th>rmse_validate</th>\n",
       "      <th>r^2_validate</th>\n",
       "    </tr>\n",
       "  </thead>\n",
       "  <tbody>\n",
       "    <tr>\n",
       "      <th>0</th>\n",
       "      <td>mean_baseline</td>\n",
       "      <td>14.825063</td>\n",
       "      <td>0.0</td>\n",
       "    </tr>\n",
       "  </tbody>\n",
       "</table>\n",
       "</div>"
      ],
      "text/plain": [
       "           model  rmse_validate  r^2_validate\n",
       "0  mean_baseline      14.825063           0.0"
      ]
     },
     "execution_count": 25,
     "metadata": {},
     "output_type": "execute_result"
    }
   ],
   "source": [
    "metric_df"
   ]
  },
  {
   "cell_type": "code",
   "execution_count": 26,
   "metadata": {},
   "outputs": [
    {
     "data": {
      "image/png": "[encoded data removed]",
      "text/plain": [
       "<Figure size 432x288 with 1 Axes>"
      ]
     },
     "metadata": {
      "needs_background": "light"
     },
     "output_type": "display_data"
    }
   ],
   "source": [
    "# plot to visualize actual vs predicted. \n",
    "plt.hist(y_train.Fertility, color='blue', alpha=.5, label=\"Actual Fertility\")\n",
    "plt.hist(y_train.fertility_pred_mean, bins=1, color='red', alpha=.5, rwidth=100, label=\"Predicted Fertility - Mean\")\n",
    "plt.hist(y_train.fertility_pred_median, bins=1, color='orange', alpha=.5, rwidth=100, label=\"Predicted Fertility- Median\")\n",
    "plt.xlabel(\"Fertility\")\n",
    "plt.ylabel(\"Number of People\")\n",
    "plt.legend()\n",
    "plt.show()"
   ]
  },
  {
   "cell_type": "markdown",
   "metadata": {},
   "source": [
    "________________________"
   ]
  },
  {
   "cell_type": "markdown",
   "metadata": {},
   "source": [
    "### Linear Regression Model"
   ]
  },
  {
   "cell_type": "code",
   "execution_count": 27,
   "metadata": {},
   "outputs": [
    {
     "data": {
      "text/plain": [
       "LinearRegression(normalize=True)"
      ]
     },
     "execution_count": 27,
     "metadata": {},
     "output_type": "execute_result"
    }
   ],
   "source": [
    "#create the model \n",
    "lm = LinearRegression(normalize=True)\n",
    "\n",
    "#fit\n",
    "lm.fit(X_train, y_train.Fertility)"
   ]
  },
  {
   "cell_type": "code",
   "execution_count": 28,
   "metadata": {},
   "outputs": [],
   "source": [
    "# predict train\n",
    "y_train['fertility_pred_lm'] = lm.predict(X_train)"
   ]
  },
  {
   "cell_type": "code",
   "execution_count": 29,
   "metadata": {},
   "outputs": [],
   "source": [
    "# evaluate: rmse\n",
    "rmse_train = mean_squared_error(y_train.Fertility, y_train.fertility_pred_lm)**(1/2)"
   ]
  },
  {
   "cell_type": "code",
   "execution_count": 30,
   "metadata": {},
   "outputs": [],
   "source": [
    "# predict validate\n",
    "y_validate['fertility_pred_lm'] = lm.predict(X_validate)"
   ]
  },
  {
   "cell_type": "code",
   "execution_count": 31,
   "metadata": {},
   "outputs": [],
   "source": [
    "# evaluate: rmse\n",
    "rmse_validate = mean_squared_error(y_validate.Fertility, y_validate.fertility_pred_lm)**(1/2)"
   ]
  },
  {
   "cell_type": "code",
   "execution_count": 32,
   "metadata": {},
   "outputs": [
    {
     "name": "stdout",
     "output_type": "stream",
     "text": [
      "RMSE for OLS using LinearRegression\n",
      "Training/In-Sample:  4.571043042889269 \n",
      "Validation/Out-of-Sample:  12.132738217927686\n"
     ]
    }
   ],
   "source": [
    "print(\"RMSE for OLS using LinearRegression\\nTraining/In-Sample: \", rmse_train, \n",
    "      \"\\nValidation/Out-of-Sample: \", rmse_validate)"
   ]
  },
  {
   "cell_type": "markdown",
   "metadata": {},
   "source": [
    "_______________________________________"
   ]
  },
  {
   "cell_type": "markdown",
   "metadata": {},
   "source": [
    "### LassoLars Model"
   ]
  },
  {
   "cell_type": "code",
   "execution_count": 33,
   "metadata": {},
   "outputs": [
    {
     "name": "stdout",
     "output_type": "stream",
     "text": [
      "RMSE for Lasso + Lars\n",
      "Training/In-Sample:  9.773714953895475 \n",
      "Validation/Out-of-Sample:  14.781010204538344\n"
     ]
    }
   ],
   "source": [
    "# create the model object\n",
    "lars = LassoLars(alpha=2.0)\n",
    "\n",
    "# fit the model to our training data. We must specify the column in y_train, \n",
    "# since we have converted it to a dataframe from a series! \n",
    "lars.fit(X_train, y_train.Fertility)\n",
    "\n",
    "# predict train\n",
    "y_train['fertility_pred_lars'] = lars.predict(X_train)\n",
    "\n",
    "# evaluate: rmse\n",
    "rmse_train = mean_squared_error(y_train.Fertility, y_train.fertility_pred_lars)**(1/2)\n",
    "\n",
    "# predict validate\n",
    "y_validate['fertility_pred_lars'] = lars.predict(X_validate)\n",
    "\n",
    "# evaluate: rmse\n",
    "rmse_validate = mean_squared_error(y_validate.Fertility, y_validate.fertility_pred_lars)**(1/2)\n",
    "\n",
    "print(\"RMSE for Lasso + Lars\\nTraining/In-Sample: \", rmse_train, \n",
    "      \"\\nValidation/Out-of-Sample: \", rmse_validate)"
   ]
  },
  {
   "cell_type": "markdown",
   "metadata": {},
   "source": [
    "__________________________"
   ]
  },
  {
   "cell_type": "markdown",
   "metadata": {},
   "source": [
    "### Tweedie Regressor Model"
   ]
  },
  {
   "cell_type": "code",
   "execution_count": 34,
   "metadata": {},
   "outputs": [
    {
     "name": "stdout",
     "output_type": "stream",
     "text": [
      "RMSE for GLM using Tweedie, power=1 & alpha=0\n",
      "Training/In-Sample:  4.480345459599679 \n",
      "Validation/Out-of-Sample:  12.170359855806185\n"
     ]
    }
   ],
   "source": [
    "# create the model object\n",
    "glm = TweedieRegressor(power=1, alpha=0)\n",
    "\n",
    "# fit the model to our training data. We must specify the column in y_train, \n",
    "# since we have converted it to a dataframe from a series! \n",
    "glm.fit(X_train, y_train.Fertility)\n",
    "\n",
    "# predict train\n",
    "y_train['fertility_pred_glm'] = glm.predict(X_train)\n",
    "\n",
    "# evaluate: rmse\n",
    "rmse_train = mean_squared_error(y_train.Fertility, y_train.fertility_pred_glm)**(1/2)\n",
    "\n",
    "# predict validate\n",
    "y_validate['fertility_pred_glm'] = glm.predict(X_validate)\n",
    "\n",
    "# evaluate: rmse\n",
    "rmse_validate = mean_squared_error(y_validate.Fertility, y_validate.fertility_pred_glm)**(1/2)\n",
    "\n",
    "print(\"RMSE for GLM using Tweedie, power=1 & alpha=0\\nTraining/In-Sample: \", rmse_train, \n",
    "      \"\\nValidation/Out-of-Sample: \", rmse_validate)"
   ]
  },
  {
   "cell_type": "markdown",
   "metadata": {},
   "source": [
    "___________________________"
   ]
  },
  {
   "cell_type": "code",
   "execution_count": 39,
   "metadata": {},
   "outputs": [
    {
     "data": {
      "image/png": "[encoded data removed]",
      "text/plain": [
       "<Figure size 1152x576 with 1 Axes>"
      ]
     },
     "metadata": {
      "needs_background": "light"
     },
     "output_type": "display_data"
    }
   ],
   "source": [
    "# y_validate.head()\n",
    "plt.figure(figsize=(16,8))\n",
    "plt.plot(y_validate.Fertility, y_validate.fertility_pred_mean, alpha=.5, color=\"gray\", label='_nolegend_')\n",
    "#plt.annotate(\"Baseline: Predict Using Mean\", (16, 9.5))\n",
    "plt.plot(y_validate.Fertility, y_validate.Fertility, alpha=.5, color=\"blue\", label='_nolegend_')\n",
    "#plt.annotate(\"The Ideal Line: Predicted = Actual\", (.5, 3.5), rotation=15.5)\n",
    "\n",
    "plt.scatter(y_validate.Fertility, y_validate.fertility_pred_lm, \n",
    "            alpha=.5, color=\"red\", s=100, label=\"Model: LinearRegression\")\n",
    "plt.scatter(y_validate.Fertility, y_validate.fertility_pred_glm, \n",
    "            alpha=.5, color=\"yellow\", s=100, label=\"Model: TweedieRegressor\")\n",
    "plt.scatter(y_validate.Fertility, y_validate.fertility_pred_lars, \n",
    "            alpha=.5, color=\"green\", s=100, label=\"Model: LassoLars\")\n",
    "plt.legend()\n",
    "plt.xlabel(\"Actual Fertility\")\n",
    "plt.ylabel(\"Predicted Fertility\")\n",
    "plt.title(\"Where are predictions more extreme? More modest?\")\n",
    "#plt.annotate(\"The polynomial model appears to overreact to noise\", (2.0, -10))\n",
    "#plt.annotate(\"The OLS model (LinearRegression)\\n appears to be most consistent\", (15.5, 3))\n",
    "plt.show()"
   ]
  },
  {
   "cell_type": "code",
   "execution_count": 36,
   "metadata": {},
   "outputs": [
    {
     "data": {
      "image/png": "[encoded data removed]",
      "text/plain": [
       "<Figure size 1152x576 with 1 Axes>"
      ]
     },
     "metadata": {
      "needs_background": "light"
     },
     "output_type": "display_data"
    }
   ],
   "source": [
    "# plot to visualize actual vs predicted. \n",
    "plt.figure(figsize=(16,8))\n",
    "plt.hist(y_validate.Fertility, color='blue', alpha=.5, label=\"Actual Fertility\")\n",
    "plt.hist(y_validate.fertility_pred_lm, color='red', alpha=.5, label=\"Model: LinearRegression\")\n",
    "plt.hist(y_validate.fertility_pred_glm, color='yellow', alpha=.5, label=\"Model: TweedieRegressor\")\n",
    "plt.hist(y_validate.fertility_pred_lars, color='green', alpha=.5, label=\"Model: LassoLars\")\n",
    "plt.xlabel(\"Fertility\")\n",
    "plt.ylabel(\"Number of People\")\n",
    "plt.title(\"Comparing the Distribution of Actual Fertility to Distributions of Predicted Fertility for the Top Models\")\n",
    "plt.legend()\n",
    "plt.show()"
   ]
  },
  {
   "cell_type": "code",
   "execution_count": 37,
   "metadata": {},
   "outputs": [
    {
     "name": "stdout",
     "output_type": "stream",
     "text": [
      "RMSE for OLS Model using LinearRegression\n",
      "Out-of-Sample Performance:  10.67992101123686\n"
     ]
    }
   ],
   "source": [
    "y_test = pd.DataFrame(y_test)\n",
    "\n",
    "# predict on test\n",
    "y_test['fertility_pred_lm'] = lm.predict(X_test)\n",
    "\n",
    "# evaluate: rmse\n",
    "rmse_test = mean_squared_error(y_test.Fertility, y_test.fertility_pred_lm)**(1/2)\n",
    "\n",
    "print(\"RMSE for OLS Model using LinearRegression\\nOut-of-Sample Performance: \", rmse_test)"
   ]
  },
  {
   "cell_type": "code",
   "execution_count": null,
   "metadata": {},
   "outputs": [],
   "source": []
  }
 ],
 "metadata": {
  "kernelspec": {
   "display_name": "Python 3",
   "language": "python",
   "name": "python3"
  },
  "language_info": {
   "codemirror_mode": {
    "name": "ipython",
    "version": 3
   },
   "file_extension": ".py",
   "mimetype": "text/x-python",
   "name": "python",
   "nbconvert_exporter": "python",
   "pygments_lexer": "ipython3",
   "version": "3.8.5"
  }
 },
 "nbformat": 4,
 "nbformat_minor": 4
}
