{
 "cells": [
  {
   "cell_type": "markdown",
   "metadata": {},
   "source": [
    "# Regression Overview"
   ]
  },
  {
   "cell_type": "markdown",
   "metadata": {},
   "source": [
    "### Regression is a supevised machine learning technique used to model the relationship of one or more features (independent variables) to one of more targets (dependent variables). "
   ]
  },
  {
   "cell_type": "markdown",
   "metadata": {},
   "source": [
    "<div class=\"alert alert-block alert-info\">\n",
    "**Regression**: prediction of a continuous outcome\n"
   ]
  },
  {
   "cell_type": "markdown",
   "metadata": {},
   "source": [
    "<div class=\"alert alert-block alert-info\">\n",
    "**Classification**: prediction of a Categorical Variable\n"
   ]
  },
  {
   "cell_type": "markdown",
   "metadata": {},
   "source": [
    "### Data Scaling:\n",
    "   - **Why**:\n",
    "        - data visualization\n",
    "        - distance calculation\n",
    "        - compare units\n",
    "   - **Data Scaling Categories**:\n",
    "       - linear: the space between each point is maintained\n",
    "       - non-linear: the space between each point will be different in the output"
   ]
  },
  {
   "cell_type": "markdown",
   "metadata": {},
   "source": [
    "____________________________"
   ]
  },
  {
   "cell_type": "markdown",
   "metadata": {},
   "source": [
    "### Feature Engineering\n",
    "   - transform raw data to better represent the problem to our predictive models     \n",
    "       - (ex): drop columns, create new columns, domain knowledge\n",
    "<br>\n",
    "\n",
    "#### Automated Feature Selections:\n",
    "- **Select K Best**: selects the tio k features based on stats best\n",
    "- **Recursive Feature Elimination (RFE)**: \n",
    "    - builds model and drops the least imporant feature \n",
    "    - continuously drops features until down to specified number of features"
   ]
  },
  {
   "cell_type": "markdown",
   "metadata": {},
   "source": [
    "### Evaluation\n",
    "- **Ask yourself**:\n",
    "1. does the model add value\n",
    "2. which model is better\n",
    "3. how confident I am in this model\n",
    "\n",
    "- **Error** = actual value - predicted values\n",
    "\n",
    "### Baseline: \n",
    "- predicted value = average value\n",
    "- the average of the target variable"
   ]
  },
  {
   "cell_type": "markdown",
   "metadata": {},
   "source": [
    "_________________________"
   ]
  },
  {
   "cell_type": "markdown",
   "metadata": {},
   "source": [
    "### Modeling:\n",
    "\n",
    "- y = mx +b (single variable)\n",
    "- y = b+ m1x1 + m2x2 + m3x3 (multiple variables)"
   ]
  },
  {
   "cell_type": "markdown",
   "metadata": {},
   "source": [
    "## Example\n",
    "#### Predict tip amount based on party size and bill amount\n",
    "- tip = .0927 total_bill + .1926 size + .6689\n",
    "<br>\n",
    "\n",
    "- **y** =tip\n",
    "- **$\\hat{y}$** = predicated tip, the sum of the features times their coeffients\n",
    "- **x** = [total_bill, size] -- ([total_bill, size, 1])\n",
    "- **w** = [.0927, .1926, .6689]\n",
    "- **error** = difference between predicted and actual tip\n"
   ]
  },
  {
   "cell_type": "markdown",
   "metadata": {},
   "source": [
    "______________"
   ]
  },
  {
   "cell_type": "markdown",
   "metadata": {},
   "source": [
    "### Types of Regression:\n",
    "- **Simple Regression**: y= f(x)\n",
    "- **Muliple Regression**: y=f($x_1$, $x_2$,...)\n",
    "- **Univariate Regression**: y=f(x)\n",
    "- **Multivariate Regression**: $y_1$, $y_2$, ... = f(x)"
   ]
  },
  {
   "cell_type": "markdown",
   "metadata": {},
   "source": [
    "### Polynomial Regression:\n",
    "- combine target variables together\n",
    "- tip = ($w_1$ * $totalbill^2$) + ($w_2$ * total_bill) + ($w_3$ * total_bill * size) +($w_4$ * size) "
   ]
  },
  {
   "cell_type": "code",
   "execution_count": null,
   "metadata": {},
   "outputs": [],
   "source": []
  }
 ],
 "metadata": {
  "kernelspec": {
   "display_name": "Python 3",
   "language": "python",
   "name": "python3"
  },
  "language_info": {
   "codemirror_mode": {
    "name": "ipython",
    "version": 3
   },
   "file_extension": ".py",
   "mimetype": "text/x-python",
   "name": "python",
   "nbconvert_exporter": "python",
   "pygments_lexer": "ipython3",
   "version": "3.8.5"
  }
 },
 "nbformat": 4,
 "nbformat_minor": 4
}
